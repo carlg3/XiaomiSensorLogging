{
 "cells": [
  {
   "cell_type": "code",
   "execution_count": 18,
   "id": "3429544b-53f9-4b83-bce4-1539e25abe9e",
   "metadata": {},
   "outputs": [],
   "source": [
    "import pandas as pd\n",
    "import numpy as np\n",
    "import panel as pn\n",
    "import datetime as dt\n",
    "pn.extension('tabulator')\n",
    "import hvplot.pandas\n",
    "import csv\n",
    "import sqlite3\n",
    "import json"
   ]
  },
  {
   "cell_type": "code",
   "execution_count": 19,
   "id": "d4568403-d33c-4cbb-aa18-69582c940e8c",
   "metadata": {
    "tags": []
   },
   "outputs": [],
   "source": [
    "\n",
    "DBNAME = 't_h_readings.db'\n",
    "con  = sqlite3.connect(DBNAME,\n",
    "                      detect_types=sqlite3.PARSE_DECLTYPES |\n",
    "                        sqlite3.PARSE_COLNAMES)\n",
    "\n",
    "cur = con.cursor()\n",
    "# con.row_factory = sqlite3.Row\n",
    "\n",
    "df = pd.read_sql_query('''SELECT timestamp as \"timestamp [timestamp]\", temperature, humidity FROM reading;''', con)"
   ]
  },
  {
   "cell_type": "code",
   "execution_count": 20,
   "id": "76580d53-e2d0-4866-a85f-bbda5f612571",
   "metadata": {},
   "outputs": [
    {
     "data": {
      "text/html": [
       "<div>\n",
       "<style scoped>\n",
       "    .dataframe tbody tr th:only-of-type {\n",
       "        vertical-align: middle;\n",
       "    }\n",
       "\n",
       "    .dataframe tbody tr th {\n",
       "        vertical-align: top;\n",
       "    }\n",
       "\n",
       "    .dataframe thead th {\n",
       "        text-align: right;\n",
       "    }\n",
       "</style>\n",
       "<table border=\"1\" class=\"dataframe\">\n",
       "  <thead>\n",
       "    <tr style=\"text-align: right;\">\n",
       "      <th></th>\n",
       "      <th>p</th>\n",
       "      <th>temperature</th>\n",
       "      <th>humidity</th>\n",
       "    </tr>\n",
       "  </thead>\n",
       "  <tbody>\n",
       "    <tr>\n",
       "      <th>0</th>\n",
       "      <td>2022-10-30 18:37:19.000000</td>\n",
       "      <td>24.8</td>\n",
       "      <td>58</td>\n",
       "    </tr>\n",
       "    <tr>\n",
       "      <th>1</th>\n",
       "      <td>2022-10-30 18:37:21.000000</td>\n",
       "      <td>24.8</td>\n",
       "      <td>58</td>\n",
       "    </tr>\n",
       "    <tr>\n",
       "      <th>2</th>\n",
       "      <td>2022-10-30 18:37:35.000000</td>\n",
       "      <td>24.8</td>\n",
       "      <td>58</td>\n",
       "    </tr>\n",
       "    <tr>\n",
       "      <th>3</th>\n",
       "      <td>2022-10-30 18:38:23.000000</td>\n",
       "      <td>24.8</td>\n",
       "      <td>58</td>\n",
       "    </tr>\n",
       "    <tr>\n",
       "      <th>4</th>\n",
       "      <td>2022-10-30 18:38:23.171108</td>\n",
       "      <td>24.8</td>\n",
       "      <td>58</td>\n",
       "    </tr>\n",
       "    <tr>\n",
       "      <th>...</th>\n",
       "      <td>...</td>\n",
       "      <td>...</td>\n",
       "      <td>...</td>\n",
       "    </tr>\n",
       "    <tr>\n",
       "      <th>31132</th>\n",
       "      <td>2022-11-07 11:07:12.455811</td>\n",
       "      <td>23.0</td>\n",
       "      <td>53</td>\n",
       "    </tr>\n",
       "    <tr>\n",
       "      <th>31133</th>\n",
       "      <td>2022-11-07 11:08:07.200759</td>\n",
       "      <td>23.0</td>\n",
       "      <td>53</td>\n",
       "    </tr>\n",
       "    <tr>\n",
       "      <th>31134</th>\n",
       "      <td>2022-11-07 11:09:03.884525</td>\n",
       "      <td>23.0</td>\n",
       "      <td>53</td>\n",
       "    </tr>\n",
       "    <tr>\n",
       "      <th>31135</th>\n",
       "      <td>2022-11-07 11:10:09.964147</td>\n",
       "      <td>23.1</td>\n",
       "      <td>53</td>\n",
       "    </tr>\n",
       "    <tr>\n",
       "      <th>31136</th>\n",
       "      <td>2022-11-07 11:11:02.885491</td>\n",
       "      <td>23.1</td>\n",
       "      <td>53</td>\n",
       "    </tr>\n",
       "  </tbody>\n",
       "</table>\n",
       "<p>31137 rows × 3 columns</p>\n",
       "</div>"
      ],
      "text/plain": [
       "                               p  temperature  humidity\n",
       "0     2022-10-30 18:37:19.000000         24.8        58\n",
       "1     2022-10-30 18:37:21.000000         24.8        58\n",
       "2     2022-10-30 18:37:35.000000         24.8        58\n",
       "3     2022-10-30 18:38:23.000000         24.8        58\n",
       "4     2022-10-30 18:38:23.171108         24.8        58\n",
       "...                          ...          ...       ...\n",
       "31132 2022-11-07 11:07:12.455811         23.0        53\n",
       "31133 2022-11-07 11:08:07.200759         23.0        53\n",
       "31134 2022-11-07 11:09:03.884525         23.0        53\n",
       "31135 2022-11-07 11:10:09.964147         23.1        53\n",
       "31136 2022-11-07 11:11:02.885491         23.1        53\n",
       "\n",
       "[31137 rows x 3 columns]"
      ]
     },
     "execution_count": 20,
     "metadata": {},
     "output_type": "execute_result"
    }
   ],
   "source": [
    "df"
   ]
  },
  {
   "cell_type": "code",
   "execution_count": 21,
   "id": "cb1009d6-fa51-4df9-8795-afc51e76b3c2",
   "metadata": {
    "tags": []
   },
   "outputs": [
    {
     "data": {},
     "metadata": {},
     "output_type": "display_data"
    },
    {
     "data": {
      "application/vnd.holoviews_exec.v0+json": "",
      "text/html": [
       "<div id='1005'>\n",
       "  <div class=\"bk-root\" id=\"3f7d0bae-477d-4536-9a27-e9dd57dcde08\" data-root-id=\"1005\"></div>\n",
       "</div>\n",
       "<script type=\"application/javascript\">(function(root) {\n",
       "  function embed_document(root) {\n",
       "    var docs_json = {\"e2f2987f-c8bd-4517-aab0-352e36769d5c\":{\"defs\":[{\"extends\":null,\"module\":null,\"name\":\"ReactiveHTML1\",\"overrides\":[],\"properties\":[]},{\"extends\":null,\"module\":null,\"name\":\"FlexBox1\",\"overrides\":[],\"properties\":[{\"default\":\"flex-start\",\"kind\":null,\"name\":\"align_content\"},{\"default\":\"flex-start\",\"kind\":null,\"name\":\"align_items\"},{\"default\":\"row\",\"kind\":null,\"name\":\"flex_direction\"},{\"default\":\"wrap\",\"kind\":null,\"name\":\"flex_wrap\"},{\"default\":\"flex-start\",\"kind\":null,\"name\":\"justify_content\"}]},{\"extends\":null,\"module\":null,\"name\":\"GridStack1\",\"overrides\":[],\"properties\":[{\"default\":\"warn\",\"kind\":null,\"name\":\"mode\"},{\"default\":null,\"kind\":null,\"name\":\"ncols\"},{\"default\":null,\"kind\":null,\"name\":\"nrows\"},{\"default\":true,\"kind\":null,\"name\":\"allow_resize\"},{\"default\":true,\"kind\":null,\"name\":\"allow_drag\"},{\"default\":[],\"kind\":null,\"name\":\"state\"}]},{\"extends\":null,\"module\":null,\"name\":\"click1\",\"overrides\":[],\"properties\":[{\"default\":\"\",\"kind\":null,\"name\":\"terminal_output\"},{\"default\":\"\",\"kind\":null,\"name\":\"debug_name\"},{\"default\":0,\"kind\":null,\"name\":\"clears\"}]},{\"extends\":null,\"module\":null,\"name\":\"NotificationAreaBase1\",\"overrides\":[],\"properties\":[{\"default\":\"bottom-right\",\"kind\":null,\"name\":\"position\"},{\"default\":0,\"kind\":null,\"name\":\"_clear\"}]},{\"extends\":null,\"module\":null,\"name\":\"NotificationArea1\",\"overrides\":[],\"properties\":[{\"default\":[],\"kind\":null,\"name\":\"notifications\"},{\"default\":\"bottom-right\",\"kind\":null,\"name\":\"position\"},{\"default\":0,\"kind\":null,\"name\":\"_clear\"},{\"default\":[{\"background\":\"#ffc107\",\"icon\":{\"className\":\"fas fa-exclamation-triangle\",\"color\":\"white\",\"tagName\":\"i\"},\"type\":\"warning\"},{\"background\":\"#007bff\",\"icon\":{\"className\":\"fas fa-info-circle\",\"color\":\"white\",\"tagName\":\"i\"},\"type\":\"info\"}],\"kind\":null,\"name\":\"types\"}]},{\"extends\":null,\"module\":null,\"name\":\"Notification\",\"overrides\":[],\"properties\":[{\"default\":null,\"kind\":null,\"name\":\"background\"},{\"default\":3000,\"kind\":null,\"name\":\"duration\"},{\"default\":null,\"kind\":null,\"name\":\"icon\"},{\"default\":\"\",\"kind\":null,\"name\":\"message\"},{\"default\":null,\"kind\":null,\"name\":\"notification_type\"},{\"default\":false,\"kind\":null,\"name\":\"_destroyed\"}]},{\"extends\":null,\"module\":null,\"name\":\"TemplateActions1\",\"overrides\":[],\"properties\":[{\"default\":0,\"kind\":null,\"name\":\"open_modal\"},{\"default\":0,\"kind\":null,\"name\":\"close_modal\"}]},{\"extends\":null,\"module\":null,\"name\":\"MaterialTemplateActions1\",\"overrides\":[],\"properties\":[{\"default\":0,\"kind\":null,\"name\":\"open_modal\"},{\"default\":0,\"kind\":null,\"name\":\"close_modal\"}]}],\"roots\":{\"references\":[{\"attributes\":{\"end\":1667819838000.0,\"margin\":[5,10,5,10],\"start\":1667088000000.0,\"title\":\"Slider\",\"value\":[1667088000000.0,1667819838447.549]},\"id\":\"1005\",\"type\":\"DateRangeSlider\"},{\"attributes\":{\"client_comm_id\":\"00953c6ba4204ac788b54697fea06753\",\"comm_id\":\"f399ebc6426041d28d263a20b2962198\",\"plot_id\":\"1005\"},\"id\":\"1006\",\"type\":\"panel.models.comm_manager.CommManager\"}],\"root_ids\":[\"1005\",\"1006\"]},\"title\":\"Bokeh Application\",\"version\":\"2.4.3\"}};\n",
       "    var render_items = [{\"docid\":\"e2f2987f-c8bd-4517-aab0-352e36769d5c\",\"root_ids\":[\"1005\"],\"roots\":{\"1005\":\"3f7d0bae-477d-4536-9a27-e9dd57dcde08\"}}];\n",
       "    root.Bokeh.embed.embed_items_notebook(docs_json, render_items);\n",
       "    for (const render_item of render_items) {\n",
       "      for (const root_id of render_item.root_ids) {\n",
       "\tconst id_el = document.getElementById(root_id)\n",
       "\tif (id_el.children.length && (id_el.children[0].className === 'bk-root')) {\n",
       "\t  const root_el = id_el.children[0]\n",
       "\t  root_el.id = root_el.id + '-rendered'\n",
       "\t}\n",
       "      }\n",
       "    }\n",
       "  }\n",
       "  if (root.Bokeh !== undefined && root.Bokeh.Panel !== undefined && ( root['Tabulator'] !== undefined) && ( root['Tabulator'] !== undefined)) {\n",
       "    embed_document(root);\n",
       "  } else {\n",
       "    var attempts = 0;\n",
       "    var timer = setInterval(function(root) {\n",
       "      if (root.Bokeh !== undefined && root.Bokeh.Panel !== undefined && (root['Tabulator'] !== undefined) && (root['Tabulator'] !== undefined)) {\n",
       "        clearInterval(timer);\n",
       "        embed_document(root);\n",
       "      } else if (document.readyState == \"complete\") {\n",
       "        attempts++;\n",
       "        if (attempts > 200) {\n",
       "          clearInterval(timer);\n",
       "          console.log(\"Bokeh: ERROR: Unable to run BokehJS code because BokehJS library is missing\");\n",
       "        }\n",
       "      }\n",
       "    }, 25, root)\n",
       "  }\n",
       "})(window);</script>"
      ],
      "text/plain": [
       "DateRangeSlider(end=datetime.datetime(2022, ..., name='Slider', start=datetime.datetime(2022, ..., value=(datetime.datetime(2022, ..., value_end=datetime.datetime(2022, ..., value_start=datetime.datetime(2022, ...)"
      ]
     },
     "execution_count": 21,
     "metadata": {
      "application/vnd.holoviews_exec.v0+json": {
       "id": "1005"
      }
     },
     "output_type": "execute_result"
    }
   ],
   "source": [
    "idf = df.interactive()\n",
    "\n",
    "slid = pn.widgets.DateRangeSlider(name='Slider', start=dt.datetime(2022, 10, 30), end=dt.datetime.now())\n",
    "slid"
   ]
  },
  {
   "cell_type": "code",
   "execution_count": 22,
   "id": "0b254784-c6cb-4877-8081-3fc8446b154a",
   "metadata": {},
   "outputs": [],
   "source": [
    "yaxis_values = pn.widgets.RadioButtonGroup(\n",
    "    name='Y axis',\n",
    "    options=['temperature', 'humidity'],\n",
    "    button_type='success'\n",
    ")"
   ]
  },
  {
   "cell_type": "code",
   "execution_count": 23,
   "id": "510aa30a-46f8-4c06-9947-b8868ae0f5e3",
   "metadata": {},
   "outputs": [
    {
     "ename": "AttributeError",
     "evalue": "'Interactive' object has no attribute 'timestamp'",
     "output_type": "error",
     "traceback": [
      "\u001b[0;31m---------------------------------------------------------------------------\u001b[0m",
      "\u001b[0;31mAttributeError\u001b[0m                            Traceback (most recent call last)",
      "Cell \u001b[0;32mIn [23], line 3\u001b[0m\n\u001b[1;32m      1\u001b[0m pipeline \u001b[38;5;241m=\u001b[39m (\n\u001b[1;32m      2\u001b[0m     idf[\n\u001b[0;32m----> 3\u001b[0m         (\u001b[43midf\u001b[49m\u001b[38;5;241;43m.\u001b[39;49m\u001b[43mtimestamp\u001b[49m \u001b[38;5;241m<\u001b[39m\u001b[38;5;241m=\u001b[39m slid)\n\u001b[1;32m      4\u001b[0m     ]\n\u001b[1;32m      5\u001b[0m )\n",
      "File \u001b[0;32m~/.local/share/virtualenvs/tempSensor-JvUsctVt/lib/python3.9/site-packages/hvplot/interactive.py:421\u001b[0m, in \u001b[0;36mInteractive.__getattribute__\u001b[0;34m(self, name)\u001b[0m\n\u001b[1;32m    419\u001b[0m         \u001b[38;5;28;01mpass\u001b[39;00m\n\u001b[1;32m    420\u001b[0m     \u001b[38;5;28;01mreturn\u001b[39;00m new\n\u001b[0;32m--> 421\u001b[0m \u001b[38;5;28;01mreturn\u001b[39;00m \u001b[38;5;28;43msuper\u001b[39;49m\u001b[43m(\u001b[49m\u001b[43m)\u001b[49m\u001b[38;5;241;43m.\u001b[39;49m\u001b[38;5;21;43m__getattribute__\u001b[39;49m\u001b[43m(\u001b[49m\u001b[43mname\u001b[49m\u001b[43m)\u001b[49m\n",
      "\u001b[0;31mAttributeError\u001b[0m: 'Interactive' object has no attribute 'timestamp'"
     ]
    }
   ],
   "source": [
    "pipeline = (\n",
    "    idf[\n",
    "        (idf.timestamp <= slid)\n",
    "    ]\n",
    ")"
   ]
  },
  {
   "cell_type": "code",
   "execution_count": null,
   "id": "85ebda35-76a5-486d-be76-9a559db2faa6",
   "metadata": {},
   "outputs": [],
   "source": [
    "plot = pipeline.hvplot(x='timestamp', y='temperature', line_width=2, title='titolo')\n",
    "plot"
   ]
  },
  {
   "cell_type": "code",
   "execution_count": null,
   "id": "0ee8b71a-6bf4-40c6-9ce4-5acc1288a473",
   "metadata": {},
   "outputs": [],
   "source": []
  },
  {
   "cell_type": "code",
   "execution_count": null,
   "id": "ad0ba7f9-8837-4232-a03a-3045c9b1690e",
   "metadata": {},
   "outputs": [],
   "source": []
  },
  {
   "cell_type": "code",
   "execution_count": null,
   "id": "88815ac4-25b8-4dc2-8bbe-985072c11471",
   "metadata": {},
   "outputs": [],
   "source": []
  }
 ],
 "metadata": {
  "kernelspec": {
   "display_name": "Python 3 (ipykernel)",
   "language": "python",
   "name": "python3"
  },
  "language_info": {
   "codemirror_mode": {
    "name": "ipython",
    "version": 3
   },
   "file_extension": ".py",
   "mimetype": "text/x-python",
   "name": "python",
   "nbconvert_exporter": "python",
   "pygments_lexer": "ipython3",
   "version": "3.9.2"
  }
 },
 "nbformat": 4,
 "nbformat_minor": 5
}
