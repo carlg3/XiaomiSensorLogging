{
 "cells": [
  {
   "cell_type": "code",
   "execution_count": 31,
   "id": "3429544b-53f9-4b83-bce4-1539e25abe9e",
   "metadata": {},
   "outputs": [],
   "source": [
    "import pandas as pd\n",
    "import numpy as np\n",
    "import panel as pn\n",
    "import datetime as dt\n",
    "pn.extension('tabulator')\n",
    "import hvplot.pandas\n",
    "import csv\n",
    "import sqlite3\n",
    "import json"
   ]
  },
  {
   "cell_type": "code",
   "execution_count": 32,
   "id": "d4568403-d33c-4cbb-aa18-69582c940e8c",
   "metadata": {
    "tags": []
   },
   "outputs": [],
   "source": [
    "\n",
    "DBNAME = 't_h_readings.db'\n",
    "con  = sqlite3.connect(DBNAME,\n",
    "                      detect_types=sqlite3.PARSE_DECLTYPES |\n",
    "                        sqlite3.PARSE_COLNAMES)\n",
    "\n",
    "cur = con.cursor()\n",
    "# con.row_factory = sqlite3.Row\n",
    "#query = '''SELECT timestamp as \"timestamp [timestamp]\", temperature, humidity FROM reading LIMIT 500;'''\n",
    "query = '''SELECT\n",
    "                timestamp as \"timestamp [timestamp]\",\n",
    "                temperature,\n",
    "                avg(temperature) OVER (ORDER BY timestamp ROWS BETWEEN 10 PRECEDING AND 10 FOLLOWING) as wtemperature,\n",
    "                humidity,\n",
    "                avg(humidity) OVER (ORDER BY timestamp ROWS BETWEEN 10 PRECEDING AND 10 FOLLOWING) as whumidity\n",
    "            FROM reading ORDER BY timestamp LIMIT 5000;'''\n",
    "df = pd.read_sql_query(query, con)"
   ]
  },
  {
   "cell_type": "code",
   "execution_count": 33,
   "id": "76580d53-e2d0-4866-a85f-bbda5f612571",
   "metadata": {},
   "outputs": [
    {
     "data": {
      "text/html": [
       "<div>\n",
       "<style scoped>\n",
       "    .dataframe tbody tr th:only-of-type {\n",
       "        vertical-align: middle;\n",
       "    }\n",
       "\n",
       "    .dataframe tbody tr th {\n",
       "        vertical-align: top;\n",
       "    }\n",
       "\n",
       "    .dataframe thead th {\n",
       "        text-align: right;\n",
       "    }\n",
       "</style>\n",
       "<table border=\"1\" class=\"dataframe\">\n",
       "  <thead>\n",
       "    <tr style=\"text-align: right;\">\n",
       "      <th></th>\n",
       "      <th>timestamp</th>\n",
       "      <th>temperature</th>\n",
       "      <th>wtemperature</th>\n",
       "      <th>humidity</th>\n",
       "      <th>whumidity</th>\n",
       "    </tr>\n",
       "  </thead>\n",
       "  <tbody>\n",
       "    <tr>\n",
       "      <th>0</th>\n",
       "      <td>2022-11-18 18:22:14.559933</td>\n",
       "      <td>19.2</td>\n",
       "      <td>19.390909</td>\n",
       "      <td>68</td>\n",
       "      <td>68.818182</td>\n",
       "    </tr>\n",
       "    <tr>\n",
       "      <th>1</th>\n",
       "      <td>2022-11-18 18:24:40.049381</td>\n",
       "      <td>19.2</td>\n",
       "      <td>19.391667</td>\n",
       "      <td>68</td>\n",
       "      <td>68.833333</td>\n",
       "    </tr>\n",
       "    <tr>\n",
       "      <th>2</th>\n",
       "      <td>2022-11-18 19:03:38.698081</td>\n",
       "      <td>19.5</td>\n",
       "      <td>19.400000</td>\n",
       "      <td>69</td>\n",
       "      <td>68.846154</td>\n",
       "    </tr>\n",
       "    <tr>\n",
       "      <th>3</th>\n",
       "      <td>2022-11-18 19:18:09.856256</td>\n",
       "      <td>19.4</td>\n",
       "      <td>19.407143</td>\n",
       "      <td>69</td>\n",
       "      <td>68.857143</td>\n",
       "    </tr>\n",
       "    <tr>\n",
       "      <th>4</th>\n",
       "      <td>2022-11-18 19:19:05.705043</td>\n",
       "      <td>19.4</td>\n",
       "      <td>19.413333</td>\n",
       "      <td>69</td>\n",
       "      <td>68.866667</td>\n",
       "    </tr>\n",
       "    <tr>\n",
       "      <th>...</th>\n",
       "      <td>...</td>\n",
       "      <td>...</td>\n",
       "      <td>...</td>\n",
       "      <td>...</td>\n",
       "      <td>...</td>\n",
       "    </tr>\n",
       "    <tr>\n",
       "      <th>3021</th>\n",
       "      <td>2022-11-20 21:35:04.711609</td>\n",
       "      <td>19.1</td>\n",
       "      <td>19.046667</td>\n",
       "      <td>68</td>\n",
       "      <td>68.000000</td>\n",
       "    </tr>\n",
       "    <tr>\n",
       "      <th>3022</th>\n",
       "      <td>2022-11-20 21:36:09.922132</td>\n",
       "      <td>19.2</td>\n",
       "      <td>19.057143</td>\n",
       "      <td>68</td>\n",
       "      <td>68.000000</td>\n",
       "    </tr>\n",
       "    <tr>\n",
       "      <th>3023</th>\n",
       "      <td>2022-11-20 21:37:05.550626</td>\n",
       "      <td>19.2</td>\n",
       "      <td>19.069231</td>\n",
       "      <td>68</td>\n",
       "      <td>68.000000</td>\n",
       "    </tr>\n",
       "    <tr>\n",
       "      <th>3024</th>\n",
       "      <td>2022-11-20 21:38:14.536291</td>\n",
       "      <td>19.2</td>\n",
       "      <td>19.083333</td>\n",
       "      <td>68</td>\n",
       "      <td>68.000000</td>\n",
       "    </tr>\n",
       "    <tr>\n",
       "      <th>3025</th>\n",
       "      <td>2022-11-20 21:39:04.397493</td>\n",
       "      <td>19.2</td>\n",
       "      <td>19.090909</td>\n",
       "      <td>68</td>\n",
       "      <td>68.000000</td>\n",
       "    </tr>\n",
       "  </tbody>\n",
       "</table>\n",
       "<p>3026 rows × 5 columns</p>\n",
       "</div>"
      ],
      "text/plain": [
       "                      timestamp  temperature  wtemperature  humidity  \\\n",
       "0    2022-11-18 18:22:14.559933         19.2     19.390909        68   \n",
       "1    2022-11-18 18:24:40.049381         19.2     19.391667        68   \n",
       "2    2022-11-18 19:03:38.698081         19.5     19.400000        69   \n",
       "3    2022-11-18 19:18:09.856256         19.4     19.407143        69   \n",
       "4    2022-11-18 19:19:05.705043         19.4     19.413333        69   \n",
       "...                         ...          ...           ...       ...   \n",
       "3021 2022-11-20 21:35:04.711609         19.1     19.046667        68   \n",
       "3022 2022-11-20 21:36:09.922132         19.2     19.057143        68   \n",
       "3023 2022-11-20 21:37:05.550626         19.2     19.069231        68   \n",
       "3024 2022-11-20 21:38:14.536291         19.2     19.083333        68   \n",
       "3025 2022-11-20 21:39:04.397493         19.2     19.090909        68   \n",
       "\n",
       "      whumidity  \n",
       "0     68.818182  \n",
       "1     68.833333  \n",
       "2     68.846154  \n",
       "3     68.857143  \n",
       "4     68.866667  \n",
       "...         ...  \n",
       "3021  68.000000  \n",
       "3022  68.000000  \n",
       "3023  68.000000  \n",
       "3024  68.000000  \n",
       "3025  68.000000  \n",
       "\n",
       "[3026 rows x 5 columns]"
      ]
     },
     "execution_count": 33,
     "metadata": {},
     "output_type": "execute_result"
    }
   ],
   "source": [
    "df"
   ]
  },
  {
   "cell_type": "code",
   "execution_count": 51,
   "id": "cb1009d6-fa51-4df9-8795-afc51e76b3c2",
   "metadata": {
    "tags": []
   },
   "outputs": [
    {
     "data": {
      "text/plain": [
       "hvplot.interactive.Interactive"
      ]
     },
     "execution_count": 51,
     "metadata": {},
     "output_type": "execute_result"
    }
   ],
   "source": [
    "idf = df.interactive()\n",
    "\n",
    "slid = pn.widgets.DateRangeSlider(name='Slider', start=dt.datetime(2022, 11, 18), end=dt.datetime.now())\n",
    "date_slider = pn.widgets.DateSlider(name='Date Slider', start=dt.datetime(2022, 1, 1), end=dt.datetime(2023, 6, 1), value=dt.datetime(2022, 2, 8))\n",
    "\n",
    "type(idf.timestamp)"
   ]
  },
  {
   "cell_type": "code",
   "execution_count": 53,
   "id": "0b254784-c6cb-4877-8081-3fc8446b154a",
   "metadata": {},
   "outputs": [],
   "source": [
    "yaxis_values = pn.widgets.RadioButtonGroup(\n",
    "    name='Y axis',\n",
    "    options=['wtemperature', 'whumidity'],\n",
    "    button_type='success'\n",
    ")\n",
    "cylinders = pn.widgets.IntSlider(name='Cylinders', start=19, end=20, step=1)"
   ]
  },
  {
   "cell_type": "code",
   "execution_count": 55,
   "id": "510aa30a-46f8-4c06-9947-b8868ae0f5e3",
   "metadata": {
    "tags": []
   },
   "outputs": [],
   "source": [
    "#mask = (idf['timestamp'] > slid.value[0]) & (idf['timestamp'] <= slid.value[1])\n",
    "pipeline = (\n",
    "    idf[\n",
    "        #idf.timestamp.between(dt.datetime(2022, 11, 18), dt.datetime(2022, 11, 19))\n",
    "        #idf.timestamp.between(*slid.value)\n",
    "        idf.temperature == cylinders\n",
    "        #(idf['timestamp'] > slid.value[0]) & (idf['timestamp'] <= slid.value[1])\n",
    "        #idf.loc[mask]\n",
    "        #idf.loc(slid.value[0]:slid.value[1])\n",
    "        #(idf.timestamp <= slid.value[1]) & (idf.timestamp >= slid.value[0])\n",
    "    ][yaxis_values]\n",
    ")"
   ]
  },
  {
   "cell_type": "code",
   "execution_count": 56,
   "id": "85ebda35-76a5-486d-be76-9a559db2faa6",
   "metadata": {},
   "outputs": [
    {
     "data": {},
     "metadata": {},
     "output_type": "display_data"
    },
    {
     "data": {},
     "metadata": {},
     "output_type": "display_data"
    },
    {
     "data": {
      "application/vnd.holoviews_exec.v0+json": "",
      "text/html": [
       "<div id='2600'>\n",
       "  <div class=\"bk-root\" id=\"bc8d9ccb-a45a-44c9-8b9f-2c6e089083ad\" data-root-id=\"2600\"></div>\n",
       "</div>\n",
       "<script type=\"application/javascript\">(function(root) {\n",
       "  function embed_document(root) {\n",
       "    var docs_json = {\"fa01a0d5-859d-4169-8c48-7d927b859906\":{\"defs\":[{\"extends\":null,\"module\":null,\"name\":\"ReactiveHTML1\",\"overrides\":[],\"properties\":[]},{\"extends\":null,\"module\":null,\"name\":\"FlexBox1\",\"overrides\":[],\"properties\":[{\"default\":\"flex-start\",\"kind\":null,\"name\":\"align_content\"},{\"default\":\"flex-start\",\"kind\":null,\"name\":\"align_items\"},{\"default\":\"row\",\"kind\":null,\"name\":\"flex_direction\"},{\"default\":\"wrap\",\"kind\":null,\"name\":\"flex_wrap\"},{\"default\":\"flex-start\",\"kind\":null,\"name\":\"justify_content\"}]},{\"extends\":null,\"module\":null,\"name\":\"GridStack1\",\"overrides\":[],\"properties\":[{\"default\":\"warn\",\"kind\":null,\"name\":\"mode\"},{\"default\":null,\"kind\":null,\"name\":\"ncols\"},{\"default\":null,\"kind\":null,\"name\":\"nrows\"},{\"default\":true,\"kind\":null,\"name\":\"allow_resize\"},{\"default\":true,\"kind\":null,\"name\":\"allow_drag\"},{\"default\":[],\"kind\":null,\"name\":\"state\"}]},{\"extends\":null,\"module\":null,\"name\":\"click1\",\"overrides\":[],\"properties\":[{\"default\":\"\",\"kind\":null,\"name\":\"terminal_output\"},{\"default\":\"\",\"kind\":null,\"name\":\"debug_name\"},{\"default\":0,\"kind\":null,\"name\":\"clears\"}]},{\"extends\":null,\"module\":null,\"name\":\"NotificationAreaBase1\",\"overrides\":[],\"properties\":[{\"default\":\"bottom-right\",\"kind\":null,\"name\":\"position\"},{\"default\":0,\"kind\":null,\"name\":\"_clear\"}]},{\"extends\":null,\"module\":null,\"name\":\"NotificationArea1\",\"overrides\":[],\"properties\":[{\"default\":[],\"kind\":null,\"name\":\"notifications\"},{\"default\":\"bottom-right\",\"kind\":null,\"name\":\"position\"},{\"default\":0,\"kind\":null,\"name\":\"_clear\"},{\"default\":[{\"background\":\"#ffc107\",\"icon\":{\"className\":\"fas fa-exclamation-triangle\",\"color\":\"white\",\"tagName\":\"i\"},\"type\":\"warning\"},{\"background\":\"#007bff\",\"icon\":{\"className\":\"fas fa-info-circle\",\"color\":\"white\",\"tagName\":\"i\"},\"type\":\"info\"}],\"kind\":null,\"name\":\"types\"}]},{\"extends\":null,\"module\":null,\"name\":\"Notification\",\"overrides\":[],\"properties\":[{\"default\":null,\"kind\":null,\"name\":\"background\"},{\"default\":3000,\"kind\":null,\"name\":\"duration\"},{\"default\":null,\"kind\":null,\"name\":\"icon\"},{\"default\":\"\",\"kind\":null,\"name\":\"message\"},{\"default\":null,\"kind\":null,\"name\":\"notification_type\"},{\"default\":false,\"kind\":null,\"name\":\"_destroyed\"}]},{\"extends\":null,\"module\":null,\"name\":\"TemplateActions1\",\"overrides\":[],\"properties\":[{\"default\":0,\"kind\":null,\"name\":\"open_modal\"},{\"default\":0,\"kind\":null,\"name\":\"close_modal\"}]},{\"extends\":null,\"module\":null,\"name\":\"MaterialTemplateActions1\",\"overrides\":[],\"properties\":[{\"default\":0,\"kind\":null,\"name\":\"open_modal\"},{\"default\":0,\"kind\":null,\"name\":\"close_modal\"}]}],\"roots\":{\"references\":[{\"attributes\":{\"margin\":[5,5,5,5],\"name\":\"HSpacer04899\",\"sizing_mode\":\"stretch_width\"},\"id\":\"2606\",\"type\":\"Spacer\"},{\"attributes\":{\"tools\":[{\"id\":\"2609\"},{\"id\":\"2627\"},{\"id\":\"2628\"},{\"id\":\"2629\"},{\"id\":\"2630\"},{\"id\":\"2631\"}]},\"id\":\"2633\",\"type\":\"Toolbar\"},{\"attributes\":{\"data\":{\"timestamp\":[0,1,2,3,4,5,6,7,8,9,10,11,12,13,14,15,16,17,18,19,20,21,22,23,24,25,26,27,28,29,30,31,32,33,34,35,36,37,38,39,40,41,42,43,44,45,46,47,48,49,50,51,52,53,54,55,56,57,58,59,60,61,62,63,64,65,66,67,68,69,70,71,72,73,74,75,76,77,78,79,80,81,82,83,84,85,86,87,88,89,90,91,92,93,94,95,96,97,98,99,100,101,102,103,104,105,106,107,108,109,110,111,112,113,114,115,116,117,118,119,120,121,122,123,124,125,126,127,128,129,130,131,132,133,134,135,136,137,138,139,140,141,142,143,144,145,146,147,148,149,150,151,152,153,154,155,156,157,158,159,160,161,162,163,164,165,166,167,168,169,170,171,172,173,174,175,176,177,178,179,180,181,182,183,184,185,186,187,188,189,190,191,192,193,194,195,196,197,198,199,200,201],\"wtemperature\":{\"__ndarray__\":\"aPEVX/EVM0BAgRM4gRMzQECBEziBEzNAVLmUS7kUM0AsSZIkSRIzQAXZj/3YDzNA8aAO6qAOM0DxoA7qoA4zQMkwDMMwDDNAtfiKr/gKM0BmGIZhGAYzQFLgBE7gBDNAUuAETuAEM0BS4ARO4AQzQFLgBE7gBDNAUuAETuAEM0BS4ARO4AQzQFLgBE7gBDNAPqiDOqgDM0A+qIM6qAMzQFLgBE7gBDNAjIiIiIgIM0DaaI3WaA0zQChJkiRJEjNAdSmXcikXM0A4WqM1WiMzQJpyKZdyKTNA+4qv+IovM0DJMAzDMAwzQLX4iq/4CjNAosAJnMAJM0COiIiIiAgzQHpQB3VQBzNAZhiGYRgGM0BS4ARO4AQzQD6ogzqoAzNAK3ACJ3ACM0AXOIETOAEzQAMAAAAAADNAAwAAAAAAM0ADAAAAAAAzQO/HfuzH/jJA78d+7Mf+MkDvx37sx/4yQO/HfuzH/jJA78d+7Mf+MkDvx37sx/4yQO/HfuzH/jJA78d+7Mf+MkDvx37sx/4yQO/HfuzH/jJA78d+7Mf+MkDvx37sx/4yQO/HfuzH/jJA78d+7Mf+MkDbj/3Yj/0yQMhXfMVX/DJAyFd8xVf8MkDIV3zFV/wyQMhXfMVX/DJAyFd8xVf8MkDbj/3Yj/0yQNuP/diP/TJAyFd8xVf8MkDIV3zFV/wyQMhXfMVX/DJAyFd8xVf8MkDIV3zFV/wyQMhXfMVX/DJAyFd8xVf8MkDIV3zFV/wyQKDneZ7n+TJAoOd5nuf5MkC0H/uxH/syQMhXfMVX/DJAtB/7sR/7MkC0H/uxH/syQLQf+7Ef+zJAoOd5nuf5MkCg53me5/kyQLQf+7Ef+zJAtB/7sR/7MkC0H/uxH/syQLQf+7Ef+zJAtB/7sR/7MkC0H/uxH/syQLQf+7Ef+zJAyFd8xVf8MkDbj/3Yj/0yQNuP/diP/TJA24/92I/9MkDbj/3Yj/0yQO/HfuzH/jJA78d+7Mf+MkDvx37sx/4yQAMAAAAAADNAAwAAAAAAM0ADAAAAAAAzQAMAAAAAADNAAwAAAAAAM0ADAAAAAAAzQAMAAAAAADNAAwAAAAAAM0ADAAAAAAAzQAMAAAAAADNAAwAAAAAAM0ADAAAAAAAzQAMAAAAAADNAAwAAAAAAM0ADAAAAAAAzQAMAAAAAADNAAwAAAAAAM0ADAAAAAAAzQAMAAAAAADNAAwAAAAAAM0ADAAAAAAAzQAMAAAAAADNAAwAAAAAAM0ADAAAAAAAzQAMAAAAAADNAAwAAAAAAM0ADAAAAAAAzQAMAAAAAADNAAwAAAAAAM0ADAAAAAAAzQAMAAAAAADNAAwAAAAAAM0ADAAAAAAAzQAMAAAAAADNAAwAAAAAAM0ADAAAAAAAzQAMAAAAAADNAAwAAAAAAM0ADAAAAAAAzQAMAAAAAADNAAwAAAAAAM0ADAAAAAAAzQAMAAAAAADNAAwAAAAAAM0ADAAAAAAAzQAMAAAAAADNAAwAAAAAAM0ADAAAAAAAzQAMAAAAAADNAAwAAAAAAM0ADAAAAAAAzQAMAAAAAADNAAwAAAAAAM0ADAAAAAAAzQAMAAAAAADNAAwAAAAAAM0ADAAAAAAAzQAMAAAAAADNAAwAAAAAAM0ADAAAAAAAzQAMAAAAAADNAAwAAAAAAM0ADAAAAAAAzQAMAAAAAADNAAwAAAAAAM0ADAAAAAAAzQAMAAAAAADNAAwAAAAAAM0ADAAAAAAAzQAMAAAAAADNAAwAAAAAAM0ADAAAAAAAzQAMAAAAAADNAAwAAAAAAM0Dvx37sx/4yQNuP/diP/TJA24/92I/9MkDbj/3Yj/0yQNuP/diP/TJAyFd8xVf8MkDIV3zFV/wyQMhXfMVX/DJAyFd8xVf8MkDIV3zFV/wyQMhXfMVX/DJAtB/7sR/7MkCg53me5/kyQHh3d3d39zJAeHd3d3f3MkB4d3d3d/cyQGU/9mM/9jJAUQd1UAf1MkBRB3VQB/UyQFEHdVAH9TJAAidwAifwMkDu7u7u7u4yQFMHdVAH9TJAtR/7sR/7MkAqcAIncAIzQFHgBE7gBDNA78d+7Mf+MkAFJ3ACJ/AyQHp3d3d39zJAfhSuR+H6MkDt99wSp/4yQBpswRZsATNAiISEhIQEM0A=\",\"dtype\":\"float64\",\"order\":\"little\",\"shape\":[202]}},\"selected\":{\"id\":\"2641\"},\"selection_policy\":{\"id\":\"2662\"}},\"id\":\"2640\",\"type\":\"ColumnDataSource\"},{\"attributes\":{\"callback\":null,\"renderers\":[{\"id\":\"2646\"}],\"tags\":[\"hv_created\"],\"tooltips\":[[\"timestamp\",\"@{timestamp}\"],[\"wtemperature\",\"@{wtemperature}\"]]},\"id\":\"2609\",\"type\":\"HoverTool\"},{\"attributes\":{\"line_color\":\"#30a2da\",\"line_width\":2,\"x\":{\"field\":\"timestamp\"},\"y\":{\"field\":\"wtemperature\"}},\"id\":\"2648\",\"type\":\"Line\"},{\"attributes\":{},\"id\":\"2624\",\"type\":\"BasicTicker\"},{\"attributes\":{},\"id\":\"2627\",\"type\":\"SaveTool\"},{\"attributes\":{},\"id\":\"2653\",\"type\":\"BasicTickFormatter\"},{\"attributes\":{},\"id\":\"2617\",\"type\":\"LinearScale\"},{\"attributes\":{},\"id\":\"2650\",\"type\":\"BasicTickFormatter\"},{\"attributes\":{\"overlay\":{\"id\":\"2632\"}},\"id\":\"2630\",\"type\":\"BoxZoomTool\"},{\"attributes\":{},\"id\":\"2651\",\"type\":\"AllLabels\"},{\"attributes\":{},\"id\":\"2631\",\"type\":\"ResetTool\"},{\"attributes\":{\"line_alpha\":0.1,\"line_color\":\"#30a2da\",\"line_width\":2,\"x\":{\"field\":\"timestamp\"},\"y\":{\"field\":\"wtemperature\"}},\"id\":\"2644\",\"type\":\"Line\"},{\"attributes\":{\"bottom_units\":\"screen\",\"coordinates\":null,\"fill_alpha\":0.5,\"fill_color\":\"lightgrey\",\"group\":null,\"left_units\":\"screen\",\"level\":\"overlay\",\"line_alpha\":1.0,\"line_color\":\"black\",\"line_dash\":[4,4],\"line_width\":2,\"right_units\":\"screen\",\"syncable\":false,\"top_units\":\"screen\"},\"id\":\"2632\",\"type\":\"BoxAnnotation\"},{\"attributes\":{},\"id\":\"2654\",\"type\":\"AllLabels\"},{\"attributes\":{},\"id\":\"2628\",\"type\":\"PanTool\"},{\"attributes\":{\"line_color\":\"#30a2da\",\"line_width\":2,\"x\":{\"field\":\"timestamp\"},\"y\":{\"field\":\"wtemperature\"}},\"id\":\"2643\",\"type\":\"Line\"},{\"attributes\":{\"coordinates\":null,\"group\":null,\"text\":\"titolo\",\"text_color\":\"black\",\"text_font_size\":\"12pt\"},\"id\":\"2611\",\"type\":\"Title\"},{\"attributes\":{\"below\":[{\"id\":\"2619\"}],\"center\":[{\"id\":\"2622\"},{\"id\":\"2626\"}],\"height\":300,\"left\":[{\"id\":\"2623\"}],\"margin\":[5,5,5,5],\"min_border_bottom\":10,\"min_border_left\":10,\"min_border_right\":10,\"min_border_top\":10,\"renderers\":[{\"id\":\"2646\"}],\"sizing_mode\":\"fixed\",\"title\":{\"id\":\"2611\"},\"toolbar\":{\"id\":\"2633\"},\"width\":700,\"x_range\":{\"id\":\"2607\"},\"x_scale\":{\"id\":\"2615\"},\"y_range\":{\"id\":\"2608\"},\"y_scale\":{\"id\":\"2617\"}},\"id\":\"2610\",\"subtype\":\"Figure\",\"type\":\"Plot\"},{\"attributes\":{\"coordinates\":null,\"data_source\":{\"id\":\"2640\"},\"glyph\":{\"id\":\"2643\"},\"group\":null,\"hover_glyph\":null,\"muted_glyph\":{\"id\":\"2645\"},\"nonselection_glyph\":{\"id\":\"2644\"},\"selection_glyph\":{\"id\":\"2648\"},\"view\":{\"id\":\"2647\"}},\"id\":\"2646\",\"type\":\"GlyphRenderer\"},{\"attributes\":{},\"id\":\"2641\",\"type\":\"Selection\"},{\"attributes\":{\"client_comm_id\":\"b083b4dfaa934133afc82ffbf3303be2\",\"comm_id\":\"d62f49213b6f40b5934bf7a52358334e\",\"plot_id\":\"2600\"},\"id\":\"2695\",\"type\":\"panel.models.comm_manager.CommManager\"},{\"attributes\":{\"children\":[{\"id\":\"2604\"},{\"id\":\"2605\"}],\"margin\":[0,0,0,0],\"name\":\"Column04895\"},\"id\":\"2603\",\"type\":\"Column\"},{\"attributes\":{\"active\":0,\"button_type\":\"success\",\"labels\":[\"wtemperature\",\"whumidity\"],\"margin\":[5,10,5,10]},\"id\":\"2605\",\"type\":\"RadioButtonGroup\"},{\"attributes\":{\"end\":201.0,\"reset_end\":201.0,\"reset_start\":0.0,\"tags\":[[[\"timestamp\",\"timestamp\",null]]]},\"id\":\"2607\",\"type\":\"Range1d\"},{\"attributes\":{},\"id\":\"2615\",\"type\":\"LinearScale\"},{\"attributes\":{\"end\":20,\"margin\":[5,10,5,10],\"start\":19,\"title\":\"Cylinders\",\"value\":19},\"id\":\"2604\",\"type\":\"Slider\"},{\"attributes\":{},\"id\":\"2662\",\"type\":\"UnionRenderers\"},{\"attributes\":{\"end\":19.210952380952392,\"reset_end\":19.210952380952392,\"reset_start\":18.908095238095235,\"start\":18.908095238095235,\"tags\":[[[\"wtemperature\",\"wtemperature\",null]]]},\"id\":\"2608\",\"type\":\"Range1d\"},{\"attributes\":{\"axis\":{\"id\":\"2619\"},\"coordinates\":null,\"grid_line_color\":null,\"group\":null,\"ticker\":null},\"id\":\"2622\",\"type\":\"Grid\"},{\"attributes\":{\"children\":[{\"id\":\"2601\"}],\"margin\":[0,0,0,0],\"name\":\"Row04907\"},\"id\":\"2600\",\"type\":\"Row\"},{\"attributes\":{\"axis_label\":\"\",\"coordinates\":null,\"formatter\":{\"id\":\"2653\"},\"group\":null,\"major_label_policy\":{\"id\":\"2654\"},\"ticker\":{\"id\":\"2624\"}},\"id\":\"2623\",\"type\":\"LinearAxis\"},{\"attributes\":{},\"id\":\"2620\",\"type\":\"BasicTicker\"},{\"attributes\":{\"line_alpha\":0.2,\"line_color\":\"#30a2da\",\"line_width\":2,\"x\":{\"field\":\"timestamp\"},\"y\":{\"field\":\"wtemperature\"}},\"id\":\"2645\",\"type\":\"Line\"},{\"attributes\":{\"axis_label\":\"timestamp\",\"coordinates\":null,\"formatter\":{\"id\":\"2650\"},\"group\":null,\"major_label_policy\":{\"id\":\"2651\"},\"ticker\":{\"id\":\"2620\"}},\"id\":\"2619\",\"type\":\"LinearAxis\"},{\"attributes\":{\"source\":{\"id\":\"2640\"}},\"id\":\"2647\",\"type\":\"CDSView\"},{\"attributes\":{\"children\":[{\"id\":\"2603\"},{\"id\":\"2606\"}],\"margin\":[0,0,0,0],\"name\":\"Row04900\"},\"id\":\"2602\",\"type\":\"Row\"},{\"attributes\":{},\"id\":\"2629\",\"type\":\"WheelZoomTool\"},{\"attributes\":{\"children\":[{\"id\":\"2602\"},{\"id\":\"2610\"}],\"margin\":[0,0,0,0],\"name\":\"Column04906\"},\"id\":\"2601\",\"type\":\"Column\"},{\"attributes\":{\"axis\":{\"id\":\"2623\"},\"coordinates\":null,\"dimension\":1,\"grid_line_color\":null,\"group\":null,\"ticker\":null},\"id\":\"2626\",\"type\":\"Grid\"}],\"root_ids\":[\"2600\",\"2695\"]},\"title\":\"Bokeh Application\",\"version\":\"2.4.3\"}};\n",
       "    var render_items = [{\"docid\":\"fa01a0d5-859d-4169-8c48-7d927b859906\",\"root_ids\":[\"2600\"],\"roots\":{\"2600\":\"bc8d9ccb-a45a-44c9-8b9f-2c6e089083ad\"}}];\n",
       "    root.Bokeh.embed.embed_items_notebook(docs_json, render_items);\n",
       "    for (const render_item of render_items) {\n",
       "      for (const root_id of render_item.root_ids) {\n",
       "\tconst id_el = document.getElementById(root_id)\n",
       "\tif (id_el.children.length && (id_el.children[0].className === 'bk-root')) {\n",
       "\t  const root_el = id_el.children[0]\n",
       "\t  root_el.id = root_el.id + '-rendered'\n",
       "\t}\n",
       "      }\n",
       "    }\n",
       "  }\n",
       "  if (root.Bokeh !== undefined && root.Bokeh.Panel !== undefined && ( root['Tabulator'] !== undefined) && ( root['Tabulator'] !== undefined) && ( root['Tabulator'] !== undefined)) {\n",
       "    embed_document(root);\n",
       "  } else {\n",
       "    var attempts = 0;\n",
       "    var timer = setInterval(function(root) {\n",
       "      if (root.Bokeh !== undefined && root.Bokeh.Panel !== undefined && (root['Tabulator'] !== undefined) && (root['Tabulator'] !== undefined) && (root['Tabulator'] !== undefined)) {\n",
       "        clearInterval(timer);\n",
       "        embed_document(root);\n",
       "      } else if (document.readyState == \"complete\") {\n",
       "        attempts++;\n",
       "        if (attempts > 200) {\n",
       "          clearInterval(timer);\n",
       "          console.log(\"Bokeh: ERROR: Unable to run BokehJS code because BokehJS library is missing\");\n",
       "        }\n",
       "      }\n",
       "    }, 25, root)\n",
       "  }\n",
       "})(window);</script>"
      ],
      "text/plain": [
       "<hvplot.interactive.Interactive at 0x7f7d4956d0>"
      ]
     },
     "execution_count": 56,
     "metadata": {
      "application/vnd.holoviews_exec.v0+json": {
       "id": "2600"
      }
     },
     "output_type": "execute_result"
    }
   ],
   "source": [
    "plot = pipeline.hvplot(x='timestamp', y=yaxis_values, line_width=2, title='titolo')\n",
    "plot"
   ]
  },
  {
   "cell_type": "code",
   "execution_count": 38,
   "id": "0ee8b71a-6bf4-40c6-9ce4-5acc1288a473",
   "metadata": {},
   "outputs": [],
   "source": [
    "#Layout using Template\n",
    "template = pn.template.FastListTemplate(\n",
    "    title='World CO2 emission dashboard',\n",
    "    main=[slid,plot],\n",
    "    accent_base_color=\"#88d8b0\",\n",
    "    header_background=\"#88d8b0\",\n",
    ")\n",
    "# template.show()\n",
    "template.servable();\n",
    "#pn.serve(template, websocket_origin=['*'], port=8084)"
   ]
  },
  {
   "cell_type": "code",
   "execution_count": null,
   "id": "2eea5a67-6063-447c-a555-642d34840c2c",
   "metadata": {},
   "outputs": [],
   "source": []
  },
  {
   "cell_type": "code",
   "execution_count": null,
   "id": "583d1a1a-c8b3-448f-b857-5ef71d21c870",
   "metadata": {},
   "outputs": [],
   "source": []
  },
  {
   "cell_type": "code",
   "execution_count": null,
   "id": "5758fecb-160e-495d-a58a-7d8336a16af5",
   "metadata": {},
   "outputs": [],
   "source": []
  }
 ],
 "metadata": {
  "kernelspec": {
   "display_name": "Python 3 (ipykernel)",
   "language": "python",
   "name": "python3"
  },
  "language_info": {
   "codemirror_mode": {
    "name": "ipython",
    "version": 3
   },
   "file_extension": ".py",
   "mimetype": "text/x-python",
   "name": "python",
   "nbconvert_exporter": "python",
   "pygments_lexer": "ipython3",
   "version": "3.9.2"
  }
 },
 "nbformat": 4,
 "nbformat_minor": 5
}
