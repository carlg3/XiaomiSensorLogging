{
 "cells": [
  {
   "cell_type": "code",
   "execution_count": 9,
   "id": "3429544b-53f9-4b83-bce4-1539e25abe9e",
   "metadata": {},
   "outputs": [],
   "source": [
    "import pandas as pd\n",
    "import numpy as np\n",
    "import panel as pn\n",
    "import datetime as dt\n",
    "pn.extension('tabulator')\n",
    "import hvplot.pandas\n",
    "import csv\n",
    "import sqlite3\n",
    "import json"
   ]
  },
  {
   "cell_type": "code",
   "execution_count": 17,
   "id": "d4568403-d33c-4cbb-aa18-69582c940e8c",
   "metadata": {
    "tags": []
   },
   "outputs": [],
   "source": [
    "\n",
    "DBNAME = 't_h_readings.db'\n",
    "con  = sqlite3.connect(DBNAME,\n",
    "                      detect_types=sqlite3.PARSE_DECLTYPES |\n",
    "                        sqlite3.PARSE_COLNAMES)\n",
    "\n",
    "cur = con.cursor()\n",
    "# con.row_factory = sqlite3.Row\n",
    "#query = '''SELECT timestamp as \"timestamp [timestamp]\", temperature, humidity FROM reading LIMIT 500;'''\n",
    "query = '''SELECT timestamp as \"timestamp [timestamp]\", temperature, avg(temperature) OVER (ORDER BY timestamp ROWS BETWEEN 10 PRECEDING AND 10 FOLLOWING) as wtemperature FROM reading ORDER BY timestamp LIMIT 5000;'''\n",
    "df = pd.read_sql_query(query, con)"
   ]
  },
  {
   "cell_type": "code",
   "execution_count": 18,
   "id": "76580d53-e2d0-4866-a85f-bbda5f612571",
   "metadata": {},
   "outputs": [
    {
     "data": {
      "text/html": [
       "<div>\n",
       "<style scoped>\n",
       "    .dataframe tbody tr th:only-of-type {\n",
       "        vertical-align: middle;\n",
       "    }\n",
       "\n",
       "    .dataframe tbody tr th {\n",
       "        vertical-align: top;\n",
       "    }\n",
       "\n",
       "    .dataframe thead th {\n",
       "        text-align: right;\n",
       "    }\n",
       "</style>\n",
       "<table border=\"1\" class=\"dataframe\">\n",
       "  <thead>\n",
       "    <tr style=\"text-align: right;\">\n",
       "      <th></th>\n",
       "      <th>timestamp</th>\n",
       "      <th>temperature</th>\n",
       "      <th>wtemperature</th>\n",
       "    </tr>\n",
       "  </thead>\n",
       "  <tbody>\n",
       "    <tr>\n",
       "      <th>0</th>\n",
       "      <td>2022-11-18 18:22:14.559933</td>\n",
       "      <td>19.2</td>\n",
       "      <td>19.390909</td>\n",
       "    </tr>\n",
       "    <tr>\n",
       "      <th>1</th>\n",
       "      <td>2022-11-18 18:24:40.049381</td>\n",
       "      <td>19.2</td>\n",
       "      <td>19.391667</td>\n",
       "    </tr>\n",
       "    <tr>\n",
       "      <th>2</th>\n",
       "      <td>2022-11-18 19:03:38.698081</td>\n",
       "      <td>19.5</td>\n",
       "      <td>19.400000</td>\n",
       "    </tr>\n",
       "    <tr>\n",
       "      <th>3</th>\n",
       "      <td>2022-11-18 19:18:09.856256</td>\n",
       "      <td>19.4</td>\n",
       "      <td>19.407143</td>\n",
       "    </tr>\n",
       "    <tr>\n",
       "      <th>4</th>\n",
       "      <td>2022-11-18 19:19:05.705043</td>\n",
       "      <td>19.4</td>\n",
       "      <td>19.413333</td>\n",
       "    </tr>\n",
       "    <tr>\n",
       "      <th>...</th>\n",
       "      <td>...</td>\n",
       "      <td>...</td>\n",
       "      <td>...</td>\n",
       "    </tr>\n",
       "    <tr>\n",
       "      <th>1124</th>\n",
       "      <td>2022-11-19 13:59:06.107393</td>\n",
       "      <td>19.4</td>\n",
       "      <td>19.413333</td>\n",
       "    </tr>\n",
       "    <tr>\n",
       "      <th>1125</th>\n",
       "      <td>2022-11-19 14:00:04.659537</td>\n",
       "      <td>19.4</td>\n",
       "      <td>19.407143</td>\n",
       "    </tr>\n",
       "    <tr>\n",
       "      <th>1126</th>\n",
       "      <td>2022-11-19 14:01:05.089033</td>\n",
       "      <td>19.4</td>\n",
       "      <td>19.400000</td>\n",
       "    </tr>\n",
       "    <tr>\n",
       "      <th>1127</th>\n",
       "      <td>2022-11-19 14:02:03.715437</td>\n",
       "      <td>19.4</td>\n",
       "      <td>19.391667</td>\n",
       "    </tr>\n",
       "    <tr>\n",
       "      <th>1128</th>\n",
       "      <td>2022-11-19 14:03:09.928342</td>\n",
       "      <td>19.3</td>\n",
       "      <td>19.390909</td>\n",
       "    </tr>\n",
       "  </tbody>\n",
       "</table>\n",
       "<p>1129 rows × 3 columns</p>\n",
       "</div>"
      ],
      "text/plain": [
       "                      timestamp  temperature  wtemperature\n",
       "0    2022-11-18 18:22:14.559933         19.2     19.390909\n",
       "1    2022-11-18 18:24:40.049381         19.2     19.391667\n",
       "2    2022-11-18 19:03:38.698081         19.5     19.400000\n",
       "3    2022-11-18 19:18:09.856256         19.4     19.407143\n",
       "4    2022-11-18 19:19:05.705043         19.4     19.413333\n",
       "...                         ...          ...           ...\n",
       "1124 2022-11-19 13:59:06.107393         19.4     19.413333\n",
       "1125 2022-11-19 14:00:04.659537         19.4     19.407143\n",
       "1126 2022-11-19 14:01:05.089033         19.4     19.400000\n",
       "1127 2022-11-19 14:02:03.715437         19.4     19.391667\n",
       "1128 2022-11-19 14:03:09.928342         19.3     19.390909\n",
       "\n",
       "[1129 rows x 3 columns]"
      ]
     },
     "execution_count": 18,
     "metadata": {},
     "output_type": "execute_result"
    }
   ],
   "source": [
    "df"
   ]
  },
  {
   "cell_type": "code",
   "execution_count": 19,
   "id": "cb1009d6-fa51-4df9-8795-afc51e76b3c2",
   "metadata": {
    "tags": []
   },
   "outputs": [
    {
     "data": {},
     "metadata": {},
     "output_type": "display_data"
    },
    {
     "data": {
      "application/vnd.holoviews_exec.v0+json": "",
      "text/html": [
       "<div id='1513'>\n",
       "  <div class=\"bk-root\" id=\"fdcc4221-b44b-49a3-89a0-e72fef3c0333\" data-root-id=\"1513\"></div>\n",
       "</div>\n",
       "<script type=\"application/javascript\">(function(root) {\n",
       "  function embed_document(root) {\n",
       "    var docs_json = {\"16df5d67-e674-429b-8496-dbd0bce25977\":{\"defs\":[{\"extends\":null,\"module\":null,\"name\":\"ReactiveHTML1\",\"overrides\":[],\"properties\":[]},{\"extends\":null,\"module\":null,\"name\":\"FlexBox1\",\"overrides\":[],\"properties\":[{\"default\":\"flex-start\",\"kind\":null,\"name\":\"align_content\"},{\"default\":\"flex-start\",\"kind\":null,\"name\":\"align_items\"},{\"default\":\"row\",\"kind\":null,\"name\":\"flex_direction\"},{\"default\":\"wrap\",\"kind\":null,\"name\":\"flex_wrap\"},{\"default\":\"flex-start\",\"kind\":null,\"name\":\"justify_content\"}]},{\"extends\":null,\"module\":null,\"name\":\"GridStack1\",\"overrides\":[],\"properties\":[{\"default\":\"warn\",\"kind\":null,\"name\":\"mode\"},{\"default\":null,\"kind\":null,\"name\":\"ncols\"},{\"default\":null,\"kind\":null,\"name\":\"nrows\"},{\"default\":true,\"kind\":null,\"name\":\"allow_resize\"},{\"default\":true,\"kind\":null,\"name\":\"allow_drag\"},{\"default\":[],\"kind\":null,\"name\":\"state\"}]},{\"extends\":null,\"module\":null,\"name\":\"click1\",\"overrides\":[],\"properties\":[{\"default\":\"\",\"kind\":null,\"name\":\"terminal_output\"},{\"default\":\"\",\"kind\":null,\"name\":\"debug_name\"},{\"default\":0,\"kind\":null,\"name\":\"clears\"}]},{\"extends\":null,\"module\":null,\"name\":\"NotificationAreaBase1\",\"overrides\":[],\"properties\":[{\"default\":\"bottom-right\",\"kind\":null,\"name\":\"position\"},{\"default\":0,\"kind\":null,\"name\":\"_clear\"}]},{\"extends\":null,\"module\":null,\"name\":\"NotificationArea1\",\"overrides\":[],\"properties\":[{\"default\":[],\"kind\":null,\"name\":\"notifications\"},{\"default\":\"bottom-right\",\"kind\":null,\"name\":\"position\"},{\"default\":0,\"kind\":null,\"name\":\"_clear\"},{\"default\":[{\"background\":\"#ffc107\",\"icon\":{\"className\":\"fas fa-exclamation-triangle\",\"color\":\"white\",\"tagName\":\"i\"},\"type\":\"warning\"},{\"background\":\"#007bff\",\"icon\":{\"className\":\"fas fa-info-circle\",\"color\":\"white\",\"tagName\":\"i\"},\"type\":\"info\"}],\"kind\":null,\"name\":\"types\"}]},{\"extends\":null,\"module\":null,\"name\":\"Notification\",\"overrides\":[],\"properties\":[{\"default\":null,\"kind\":null,\"name\":\"background\"},{\"default\":3000,\"kind\":null,\"name\":\"duration\"},{\"default\":null,\"kind\":null,\"name\":\"icon\"},{\"default\":\"\",\"kind\":null,\"name\":\"message\"},{\"default\":null,\"kind\":null,\"name\":\"notification_type\"},{\"default\":false,\"kind\":null,\"name\":\"_destroyed\"}]},{\"extends\":null,\"module\":null,\"name\":\"TemplateActions1\",\"overrides\":[],\"properties\":[{\"default\":0,\"kind\":null,\"name\":\"open_modal\"},{\"default\":0,\"kind\":null,\"name\":\"close_modal\"}]},{\"extends\":null,\"module\":null,\"name\":\"MaterialTemplateActions1\",\"overrides\":[],\"properties\":[{\"default\":0,\"kind\":null,\"name\":\"open_modal\"},{\"default\":0,\"kind\":null,\"name\":\"close_modal\"}]}],\"roots\":{\"references\":[{\"attributes\":{\"client_comm_id\":\"db0df901e5874534aa0ae86fcf04d352\",\"comm_id\":\"a4bae69065a6451ca2569b46097731d5\",\"plot_id\":\"1513\"},\"id\":\"1514\",\"type\":\"panel.models.comm_manager.CommManager\"},{\"attributes\":{\"end\":1668866603000.0,\"margin\":[5,10,5,10],\"start\":1667088000000.0,\"title\":\"Slider\",\"value\":[1667088000000.0,1668866603925.527]},\"id\":\"1513\",\"type\":\"DateRangeSlider\"}],\"root_ids\":[\"1513\",\"1514\"]},\"title\":\"Bokeh Application\",\"version\":\"2.4.3\"}};\n",
       "    var render_items = [{\"docid\":\"16df5d67-e674-429b-8496-dbd0bce25977\",\"root_ids\":[\"1513\"],\"roots\":{\"1513\":\"fdcc4221-b44b-49a3-89a0-e72fef3c0333\"}}];\n",
       "    root.Bokeh.embed.embed_items_notebook(docs_json, render_items);\n",
       "    for (const render_item of render_items) {\n",
       "      for (const root_id of render_item.root_ids) {\n",
       "\tconst id_el = document.getElementById(root_id)\n",
       "\tif (id_el.children.length && (id_el.children[0].className === 'bk-root')) {\n",
       "\t  const root_el = id_el.children[0]\n",
       "\t  root_el.id = root_el.id + '-rendered'\n",
       "\t}\n",
       "      }\n",
       "    }\n",
       "  }\n",
       "  if (root.Bokeh !== undefined && root.Bokeh.Panel !== undefined && ( root['Tabulator'] !== undefined) && ( root['Tabulator'] !== undefined)) {\n",
       "    embed_document(root);\n",
       "  } else {\n",
       "    var attempts = 0;\n",
       "    var timer = setInterval(function(root) {\n",
       "      if (root.Bokeh !== undefined && root.Bokeh.Panel !== undefined && (root['Tabulator'] !== undefined) && (root['Tabulator'] !== undefined)) {\n",
       "        clearInterval(timer);\n",
       "        embed_document(root);\n",
       "      } else if (document.readyState == \"complete\") {\n",
       "        attempts++;\n",
       "        if (attempts > 200) {\n",
       "          clearInterval(timer);\n",
       "          console.log(\"Bokeh: ERROR: Unable to run BokehJS code because BokehJS library is missing\");\n",
       "        }\n",
       "      }\n",
       "    }, 25, root)\n",
       "  }\n",
       "})(window);</script>"
      ],
      "text/plain": [
       "DateRangeSlider(end=datetime.datetime(2022, ..., name='Slider', start=datetime.datetime(2022, ..., value=(datetime.datetime(2022, ..., value_end=datetime.datetime(2022, ..., value_start=datetime.datetime(2022, ...)"
      ]
     },
     "execution_count": 19,
     "metadata": {
      "application/vnd.holoviews_exec.v0+json": {
       "id": "1513"
      }
     },
     "output_type": "execute_result"
    }
   ],
   "source": [
    "idf = df.interactive()\n",
    "\n",
    "slid = pn.widgets.DateRangeSlider(name='Slider', start=dt.datetime(2022, 10, 30), end=dt.datetime.now())\n",
    "slid"
   ]
  },
  {
   "cell_type": "code",
   "execution_count": 20,
   "id": "0b254784-c6cb-4877-8081-3fc8446b154a",
   "metadata": {},
   "outputs": [],
   "source": [
    "yaxis_values = pn.widgets.RadioButtonGroup(\n",
    "    name='Y axis',\n",
    "    options=['wtemperature', 'humidity'],\n",
    "    button_type='success'\n",
    ")"
   ]
  },
  {
   "cell_type": "code",
   "execution_count": 21,
   "id": "510aa30a-46f8-4c06-9947-b8868ae0f5e3",
   "metadata": {
    "tags": []
   },
   "outputs": [],
   "source": [
    "pipeline = (\n",
    "    idf[\n",
    "        (idf.timestamp <= slid.value[1]) & (idf.timestamp >= slid.value[0])\n",
    "    ]\n",
    ")"
   ]
  },
  {
   "cell_type": "code",
   "execution_count": 22,
   "id": "85ebda35-76a5-486d-be76-9a559db2faa6",
   "metadata": {},
   "outputs": [
    {
     "data": {},
     "metadata": {},
     "output_type": "display_data"
    },
    {
     "data": {},
     "metadata": {},
     "output_type": "display_data"
    },
    {
     "data": {
      "application/vnd.holoviews_exec.v0+json": "",
      "text/html": [
       "<div id='1515'>\n",
       "  <div class=\"bk-root\" id=\"4612742e-6196-4aa1-beb1-c8c0f117b2bd\" data-root-id=\"1515\"></div>\n",
       "</div>\n",
       "<script type=\"application/javascript\">(function(root) {\n",
       "  function embed_document(root) {\n",
       "    var docs_json = {\"0d0e59fa-bdcb-4e0b-9ca5-793f1a4d99ee\":{\"defs\":[{\"extends\":null,\"module\":null,\"name\":\"ReactiveHTML1\",\"overrides\":[],\"properties\":[]},{\"extends\":null,\"module\":null,\"name\":\"FlexBox1\",\"overrides\":[],\"properties\":[{\"default\":\"flex-start\",\"kind\":null,\"name\":\"align_content\"},{\"default\":\"flex-start\",\"kind\":null,\"name\":\"align_items\"},{\"default\":\"row\",\"kind\":null,\"name\":\"flex_direction\"},{\"default\":\"wrap\",\"kind\":null,\"name\":\"flex_wrap\"},{\"default\":\"flex-start\",\"kind\":null,\"name\":\"justify_content\"}]},{\"extends\":null,\"module\":null,\"name\":\"GridStack1\",\"overrides\":[],\"properties\":[{\"default\":\"warn\",\"kind\":null,\"name\":\"mode\"},{\"default\":null,\"kind\":null,\"name\":\"ncols\"},{\"default\":null,\"kind\":null,\"name\":\"nrows\"},{\"default\":true,\"kind\":null,\"name\":\"allow_resize\"},{\"default\":true,\"kind\":null,\"name\":\"allow_drag\"},{\"default\":[],\"kind\":null,\"name\":\"state\"}]},{\"extends\":null,\"module\":null,\"name\":\"click1\",\"overrides\":[],\"properties\":[{\"default\":\"\",\"kind\":null,\"name\":\"terminal_output\"},{\"default\":\"\",\"kind\":null,\"name\":\"debug_name\"},{\"default\":0,\"kind\":null,\"name\":\"clears\"}]},{\"extends\":null,\"module\":null,\"name\":\"NotificationAreaBase1\",\"overrides\":[],\"properties\":[{\"default\":\"bottom-right\",\"kind\":null,\"name\":\"position\"},{\"default\":0,\"kind\":null,\"name\":\"_clear\"}]},{\"extends\":null,\"module\":null,\"name\":\"NotificationArea1\",\"overrides\":[],\"properties\":[{\"default\":[],\"kind\":null,\"name\":\"notifications\"},{\"default\":\"bottom-right\",\"kind\":null,\"name\":\"position\"},{\"default\":0,\"kind\":null,\"name\":\"_clear\"},{\"default\":[{\"background\":\"#ffc107\",\"icon\":{\"className\":\"fas fa-exclamation-triangle\",\"color\":\"white\",\"tagName\":\"i\"},\"type\":\"warning\"},{\"background\":\"#007bff\",\"icon\":{\"className\":\"fas fa-info-circle\",\"color\":\"white\",\"tagName\":\"i\"},\"type\":\"info\"}],\"kind\":null,\"name\":\"types\"}]},{\"extends\":null,\"module\":null,\"name\":\"Notification\",\"overrides\":[],\"properties\":[{\"default\":null,\"kind\":null,\"name\":\"background\"},{\"default\":3000,\"kind\":null,\"name\":\"duration\"},{\"default\":null,\"kind\":null,\"name\":\"icon\"},{\"default\":\"\",\"kind\":null,\"name\":\"message\"},{\"default\":null,\"kind\":null,\"name\":\"notification_type\"},{\"default\":false,\"kind\":null,\"name\":\"_destroyed\"}]},{\"extends\":null,\"module\":null,\"name\":\"TemplateActions1\",\"overrides\":[],\"properties\":[{\"default\":0,\"kind\":null,\"name\":\"open_modal\"},{\"default\":0,\"kind\":null,\"name\":\"close_modal\"}]},{\"extends\":null,\"module\":null,\"name\":\"MaterialTemplateActions1\",\"overrides\":[],\"properties\":[{\"default\":0,\"kind\":null,\"name\":\"open_modal\"},{\"default\":0,\"kind\":null,\"name\":\"close_modal\"}]}],\"roots\":{\"references\":[{\"attributes\":{\"axis_label\":\"timestamp\",\"coordinates\":null,\"formatter\":{\"id\":\"1564\"},\"group\":null,\"major_label_policy\":{\"id\":\"1565\"},\"ticker\":{\"id\":\"1534\"}},\"id\":\"1533\",\"type\":\"DatetimeAxis\"},{\"attributes\":{\"end\":1668866589928.342,\"reset_end\":1668866589928.342,\"reset_start\":1668795734559.9329,\"start\":1668795734559.9329,\"tags\":[[[\"timestamp\",\"timestamp\",null]]]},\"id\":\"1521\",\"type\":\"Range1d\"},{\"attributes\":{\"axis\":{\"id\":\"1537\"},\"coordinates\":null,\"dimension\":1,\"grid_line_color\":null,\"group\":null,\"ticker\":null},\"id\":\"1540\",\"type\":\"Grid\"},{\"attributes\":{\"children\":[{\"id\":\"1519\"}],\"margin\":[0,0,0,0],\"name\":\"Column01797\"},\"id\":\"1518\",\"type\":\"Column\"},{\"attributes\":{\"axis\":{\"id\":\"1533\"},\"coordinates\":null,\"grid_line_color\":null,\"group\":null,\"ticker\":null},\"id\":\"1536\",\"type\":\"Grid\"},{\"attributes\":{},\"id\":\"1538\",\"type\":\"BasicTicker\"},{\"attributes\":{\"num_minor_ticks\":5,\"tickers\":[{\"id\":\"1579\"},{\"id\":\"1580\"},{\"id\":\"1581\"},{\"id\":\"1582\"},{\"id\":\"1583\"},{\"id\":\"1584\"},{\"id\":\"1585\"},{\"id\":\"1586\"},{\"id\":\"1587\"},{\"id\":\"1588\"},{\"id\":\"1589\"},{\"id\":\"1590\"}]},\"id\":\"1534\",\"type\":\"DatetimeTicker\"},{\"attributes\":{},\"id\":\"1542\",\"type\":\"PanTool\"},{\"attributes\":{\"children\":[{\"id\":\"1518\"},{\"id\":\"1520\"}],\"margin\":[0,0,0,0],\"name\":\"Row01802\"},\"id\":\"1517\",\"type\":\"Row\"},{\"attributes\":{\"end\":21.06238095238095,\"reset_end\":21.06238095238095,\"reset_start\":18.82809523809525,\"start\":18.82809523809525,\"tags\":[[[\"wtemperature\",\"wtemperature\",null]]]},\"id\":\"1522\",\"type\":\"Range1d\"},{\"attributes\":{\"active\":0,\"button_type\":\"success\",\"labels\":[\"wtemperature\",\"humidity\"],\"margin\":[5,10,5,10]},\"id\":\"1519\",\"type\":\"RadioButtonGroup\"},{\"attributes\":{},\"id\":\"1568\",\"type\":\"AllLabels\"},{\"attributes\":{\"below\":[{\"id\":\"1533\"}],\"center\":[{\"id\":\"1536\"},{\"id\":\"1540\"}],\"height\":300,\"left\":[{\"id\":\"1537\"}],\"margin\":[5,5,5,5],\"min_border_bottom\":10,\"min_border_left\":10,\"min_border_right\":10,\"min_border_top\":10,\"renderers\":[{\"id\":\"1560\"}],\"sizing_mode\":\"fixed\",\"title\":{\"id\":\"1525\"},\"toolbar\":{\"id\":\"1547\"},\"width\":700,\"x_range\":{\"id\":\"1521\"},\"x_scale\":{\"id\":\"1529\"},\"y_range\":{\"id\":\"1522\"},\"y_scale\":{\"id\":\"1531\"}},\"id\":\"1524\",\"subtype\":\"Figure\",\"type\":\"Plot\"},{\"attributes\":{\"data\":{\"timestamp\":{\"__ndarray__\":\"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\",\"dtype\":\"float64\",\"order\":\"little\",\"shape\":[1129]},\"wtemperature\":{\"__ndarray__\":\"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\",\"dtype\":\"float64\",\"order\":\"little\",\"shape\":[1129]}},\"selected\":{\"id\":\"1555\"},\"selection_policy\":{\"id\":\"1576\"}},\"id\":\"1554\",\"type\":\"ColumnDataSource\"},{\"attributes\":{},\"id\":\"1531\",\"type\":\"LinearScale\"},{\"attributes\":{\"mantissas\":[1,2,5],\"max_interval\":500.0,\"num_minor_ticks\":0},\"id\":\"1579\",\"type\":\"AdaptiveTicker\"},{\"attributes\":{\"margin\":[5,5,5,5],\"name\":\"HSpacer01801\",\"sizing_mode\":\"stretch_width\"},\"id\":\"1520\",\"type\":\"Spacer\"},{\"attributes\":{},\"id\":\"1565\",\"type\":\"AllLabels\"},{\"attributes\":{\"children\":[{\"id\":\"1516\"}],\"margin\":[0,0,0,0],\"name\":\"Row01809\"},\"id\":\"1515\",\"type\":\"Row\"},{\"attributes\":{\"base\":60,\"mantissas\":[1,2,5,10,15,20,30],\"max_interval\":1800000.0,\"min_interval\":1000.0,\"num_minor_ticks\":0},\"id\":\"1580\",\"type\":\"AdaptiveTicker\"},{\"attributes\":{\"coordinates\":null,\"data_source\":{\"id\":\"1554\"},\"glyph\":{\"id\":\"1557\"},\"group\":null,\"hover_glyph\":null,\"muted_glyph\":{\"id\":\"1559\"},\"nonselection_glyph\":{\"id\":\"1558\"},\"selection_glyph\":{\"id\":\"1562\"},\"view\":{\"id\":\"1561\"}},\"id\":\"1560\",\"type\":\"GlyphRenderer\"},{\"attributes\":{\"axis_label\":\"wtemperature\",\"coordinates\":null,\"formatter\":{\"id\":\"1567\"},\"group\":null,\"major_label_policy\":{\"id\":\"1568\"},\"ticker\":{\"id\":\"1538\"}},\"id\":\"1537\",\"type\":\"LinearAxis\"},{\"attributes\":{},\"id\":\"1564\",\"type\":\"DatetimeTickFormatter\"},{\"attributes\":{\"source\":{\"id\":\"1554\"}},\"id\":\"1561\",\"type\":\"CDSView\"},{\"attributes\":{\"base\":24,\"mantissas\":[1,2,4,6,8,12],\"max_interval\":43200000.0,\"min_interval\":3600000.0,\"num_minor_ticks\":0},\"id\":\"1581\",\"type\":\"AdaptiveTicker\"},{\"attributes\":{},\"id\":\"1590\",\"type\":\"YearsTicker\"},{\"attributes\":{\"line_alpha\":0.2,\"line_color\":\"#30a2da\",\"line_width\":2,\"x\":{\"field\":\"timestamp\"},\"y\":{\"field\":\"wtemperature\"}},\"id\":\"1559\",\"type\":\"Line\"},{\"attributes\":{},\"id\":\"1543\",\"type\":\"WheelZoomTool\"},{\"attributes\":{\"months\":[0,1,2,3,4,5,6,7,8,9,10,11]},\"id\":\"1586\",\"type\":\"MonthsTicker\"},{\"attributes\":{\"client_comm_id\":\"367a3073e37f4f2d86919137713f38d0\",\"comm_id\":\"3ace502a9d2343b79a9f23fe80a12792\",\"plot_id\":\"1515\"},\"id\":\"1657\",\"type\":\"panel.models.comm_manager.CommManager\"},{\"attributes\":{},\"id\":\"1567\",\"type\":\"BasicTickFormatter\"},{\"attributes\":{\"days\":[1,15]},\"id\":\"1585\",\"type\":\"DaysTicker\"},{\"attributes\":{},\"id\":\"1541\",\"type\":\"SaveTool\"},{\"attributes\":{\"days\":[1,2,3,4,5,6,7,8,9,10,11,12,13,14,15,16,17,18,19,20,21,22,23,24,25,26,27,28,29,30,31]},\"id\":\"1582\",\"type\":\"DaysTicker\"},{\"attributes\":{\"line_alpha\":0.1,\"line_color\":\"#30a2da\",\"line_width\":2,\"x\":{\"field\":\"timestamp\"},\"y\":{\"field\":\"wtemperature\"}},\"id\":\"1558\",\"type\":\"Line\"},{\"attributes\":{\"overlay\":{\"id\":\"1546\"}},\"id\":\"1544\",\"type\":\"BoxZoomTool\"},{\"attributes\":{\"days\":[1,4,7,10,13,16,19,22,25,28]},\"id\":\"1583\",\"type\":\"DaysTicker\"},{\"attributes\":{\"tools\":[{\"id\":\"1523\"},{\"id\":\"1541\"},{\"id\":\"1542\"},{\"id\":\"1543\"},{\"id\":\"1544\"},{\"id\":\"1545\"}]},\"id\":\"1547\",\"type\":\"Toolbar\"},{\"attributes\":{},\"id\":\"1545\",\"type\":\"ResetTool\"},{\"attributes\":{\"days\":[1,8,15,22]},\"id\":\"1584\",\"type\":\"DaysTicker\"},{\"attributes\":{},\"id\":\"1555\",\"type\":\"Selection\"},{\"attributes\":{\"months\":[0,6]},\"id\":\"1589\",\"type\":\"MonthsTicker\"},{\"attributes\":{\"bottom_units\":\"screen\",\"coordinates\":null,\"fill_alpha\":0.5,\"fill_color\":\"lightgrey\",\"group\":null,\"left_units\":\"screen\",\"level\":\"overlay\",\"line_alpha\":1.0,\"line_color\":\"black\",\"line_dash\":[4,4],\"line_width\":2,\"right_units\":\"screen\",\"syncable\":false,\"top_units\":\"screen\"},\"id\":\"1546\",\"type\":\"BoxAnnotation\"},{\"attributes\":{\"months\":[0,2,4,6,8,10]},\"id\":\"1587\",\"type\":\"MonthsTicker\"},{\"attributes\":{\"line_color\":\"#30a2da\",\"line_width\":2,\"x\":{\"field\":\"timestamp\"},\"y\":{\"field\":\"wtemperature\"}},\"id\":\"1557\",\"type\":\"Line\"},{\"attributes\":{\"months\":[0,4,8]},\"id\":\"1588\",\"type\":\"MonthsTicker\"},{\"attributes\":{\"coordinates\":null,\"group\":null,\"text\":\"titolo\",\"text_color\":\"black\",\"text_font_size\":\"12pt\"},\"id\":\"1525\",\"type\":\"Title\"},{\"attributes\":{\"callback\":null,\"formatters\":{\"@{timestamp}\":\"datetime\"},\"renderers\":[{\"id\":\"1560\"}],\"tags\":[\"hv_created\"],\"tooltips\":[[\"timestamp\",\"@{timestamp}{%F %T}\"],[\"wtemperature\",\"@{wtemperature}\"]]},\"id\":\"1523\",\"type\":\"HoverTool\"},{\"attributes\":{},\"id\":\"1576\",\"type\":\"UnionRenderers\"},{\"attributes\":{\"children\":[{\"id\":\"1517\"},{\"id\":\"1524\"}],\"margin\":[0,0,0,0],\"name\":\"Column01808\"},\"id\":\"1516\",\"type\":\"Column\"},{\"attributes\":{\"line_color\":\"#30a2da\",\"line_width\":2,\"x\":{\"field\":\"timestamp\"},\"y\":{\"field\":\"wtemperature\"}},\"id\":\"1562\",\"type\":\"Line\"},{\"attributes\":{},\"id\":\"1529\",\"type\":\"LinearScale\"}],\"root_ids\":[\"1515\",\"1657\"]},\"title\":\"Bokeh Application\",\"version\":\"2.4.3\"}};\n",
       "    var render_items = [{\"docid\":\"0d0e59fa-bdcb-4e0b-9ca5-793f1a4d99ee\",\"root_ids\":[\"1515\"],\"roots\":{\"1515\":\"4612742e-6196-4aa1-beb1-c8c0f117b2bd\"}}];\n",
       "    root.Bokeh.embed.embed_items_notebook(docs_json, render_items);\n",
       "    for (const render_item of render_items) {\n",
       "      for (const root_id of render_item.root_ids) {\n",
       "\tconst id_el = document.getElementById(root_id)\n",
       "\tif (id_el.children.length && (id_el.children[0].className === 'bk-root')) {\n",
       "\t  const root_el = id_el.children[0]\n",
       "\t  root_el.id = root_el.id + '-rendered'\n",
       "\t}\n",
       "      }\n",
       "    }\n",
       "  }\n",
       "  if (root.Bokeh !== undefined && root.Bokeh.Panel !== undefined && ( root['Tabulator'] !== undefined) && ( root['Tabulator'] !== undefined)) {\n",
       "    embed_document(root);\n",
       "  } else {\n",
       "    var attempts = 0;\n",
       "    var timer = setInterval(function(root) {\n",
       "      if (root.Bokeh !== undefined && root.Bokeh.Panel !== undefined && (root['Tabulator'] !== undefined) && (root['Tabulator'] !== undefined)) {\n",
       "        clearInterval(timer);\n",
       "        embed_document(root);\n",
       "      } else if (document.readyState == \"complete\") {\n",
       "        attempts++;\n",
       "        if (attempts > 200) {\n",
       "          clearInterval(timer);\n",
       "          console.log(\"Bokeh: ERROR: Unable to run BokehJS code because BokehJS library is missing\");\n",
       "        }\n",
       "      }\n",
       "    }, 25, root)\n",
       "  }\n",
       "})(window);</script>"
      ],
      "text/plain": [
       "<hvplot.interactive.Interactive at 0x7f56516340>"
      ]
     },
     "execution_count": 22,
     "metadata": {
      "application/vnd.holoviews_exec.v0+json": {
       "id": "1515"
      }
     },
     "output_type": "execute_result"
    }
   ],
   "source": [
    "plot = pipeline.hvplot(x='timestamp', y=yaxis_values, line_width=2, title='titolo')\n",
    "plot"
   ]
  },
  {
   "cell_type": "code",
   "execution_count": 16,
   "id": "0ee8b71a-6bf4-40c6-9ce4-5acc1288a473",
   "metadata": {},
   "outputs": [],
   "source": [
    "#Layout using Template\n",
    "template = pn.template.FastListTemplate(\n",
    "    title='World CO2 emission dashboard',\n",
    "    main=[yaxis_values, plot, slid],\n",
    "    accent_base_color=\"#88d8b0\",\n",
    "    header_background=\"#88d8b0\",\n",
    ")\n",
    "# template.show()\n",
    "template.servable();"
   ]
  },
  {
   "cell_type": "code",
   "execution_count": null,
   "id": "2eea5a67-6063-447c-a555-642d34840c2c",
   "metadata": {},
   "outputs": [],
   "source": []
  }
 ],
 "metadata": {
  "kernelspec": {
   "display_name": "Python 3 (ipykernel)",
   "language": "python",
   "name": "python3"
  },
  "language_info": {
   "codemirror_mode": {
    "name": "ipython",
    "version": 3
   },
   "file_extension": ".py",
   "mimetype": "text/x-python",
   "name": "python",
   "nbconvert_exporter": "python",
   "pygments_lexer": "ipython3",
   "version": "3.9.2"
  }
 },
 "nbformat": 4,
 "nbformat_minor": 5
}
