{
 "cells": [
  {
   "cell_type": "code",
   "execution_count": 57,
   "id": "3429544b-53f9-4b83-bce4-1539e25abe9e",
   "metadata": {},
   "outputs": [],
   "source": [
    "import pandas as pd\n",
    "import numpy as np\n",
    "import panel as pn\n",
    "import datetime as dt\n",
    "pn.extension('tabulator')\n",
    "import hvplot.pandas\n",
    "import csv\n",
    "import sqlite3\n",
    "import json"
   ]
  },
  {
   "cell_type": "code",
   "execution_count": 116,
   "id": "d4568403-d33c-4cbb-aa18-69582c940e8c",
   "metadata": {
    "tags": []
   },
   "outputs": [],
   "source": [
    "\n",
    "DBNAME = 't_h_readings.db'\n",
    "con  = sqlite3.connect(DBNAME,\n",
    "                      detect_types=sqlite3.PARSE_DECLTYPES |\n",
    "                        sqlite3.PARSE_COLNAMES)\n",
    "\n",
    "cur = con.cursor()\n",
    "# con.row_factory = sqlite3.Row\n",
    "#query = '''SELECT timestamp as \"timestamp [timestamp]\", temperature, humidity FROM reading LIMIT 500;'''\n",
    "query = '''SELECT timestamp as \"timestamp [timestamp]\", temperature, avg(temperature) OVER (ORDER BY timestamp RANGE BETWEEN 10 PRECEDING AND 10 FOLLOWING) as wtemperature FROM reading ORDER BY timestamp LIMIT 500;'''\n",
    "df = pd.read_sql_query(query, con)"
   ]
  },
  {
   "cell_type": "code",
   "execution_count": 117,
   "id": "76580d53-e2d0-4866-a85f-bbda5f612571",
   "metadata": {},
   "outputs": [
    {
     "data": {
      "text/html": [
       "<div>\n",
       "<style scoped>\n",
       "    .dataframe tbody tr th:only-of-type {\n",
       "        vertical-align: middle;\n",
       "    }\n",
       "\n",
       "    .dataframe tbody tr th {\n",
       "        vertical-align: top;\n",
       "    }\n",
       "\n",
       "    .dataframe thead th {\n",
       "        text-align: right;\n",
       "    }\n",
       "</style>\n",
       "<table border=\"1\" class=\"dataframe\">\n",
       "  <thead>\n",
       "    <tr style=\"text-align: right;\">\n",
       "      <th></th>\n",
       "      <th>timestamp</th>\n",
       "      <th>temperature</th>\n",
       "      <th>wtemperature</th>\n",
       "    </tr>\n",
       "  </thead>\n",
       "  <tbody>\n",
       "    <tr>\n",
       "      <th>0</th>\n",
       "      <td>2022-10-30 18:37:19.000000</td>\n",
       "      <td>24.8</td>\n",
       "      <td>24.8</td>\n",
       "    </tr>\n",
       "    <tr>\n",
       "      <th>1</th>\n",
       "      <td>2022-10-30 18:37:21.000000</td>\n",
       "      <td>24.8</td>\n",
       "      <td>24.8</td>\n",
       "    </tr>\n",
       "    <tr>\n",
       "      <th>2</th>\n",
       "      <td>2022-10-30 18:37:35.000000</td>\n",
       "      <td>24.8</td>\n",
       "      <td>24.8</td>\n",
       "    </tr>\n",
       "    <tr>\n",
       "      <th>3</th>\n",
       "      <td>2022-10-30 18:38:23.000000</td>\n",
       "      <td>24.8</td>\n",
       "      <td>24.8</td>\n",
       "    </tr>\n",
       "    <tr>\n",
       "      <th>4</th>\n",
       "      <td>2022-10-30 18:38:23.171108</td>\n",
       "      <td>24.8</td>\n",
       "      <td>24.8</td>\n",
       "    </tr>\n",
       "    <tr>\n",
       "      <th>...</th>\n",
       "      <td>...</td>\n",
       "      <td>...</td>\n",
       "      <td>...</td>\n",
       "    </tr>\n",
       "    <tr>\n",
       "      <th>495</th>\n",
       "      <td>2022-10-30 19:46:54.000000</td>\n",
       "      <td>23.7</td>\n",
       "      <td>23.7</td>\n",
       "    </tr>\n",
       "    <tr>\n",
       "      <th>496</th>\n",
       "      <td>2022-10-30 19:46:54.928897</td>\n",
       "      <td>23.7</td>\n",
       "      <td>23.7</td>\n",
       "    </tr>\n",
       "    <tr>\n",
       "      <th>497</th>\n",
       "      <td>2022-10-30 19:47:21.000000</td>\n",
       "      <td>23.7</td>\n",
       "      <td>23.7</td>\n",
       "    </tr>\n",
       "    <tr>\n",
       "      <th>498</th>\n",
       "      <td>2022-10-30 19:47:21.697739</td>\n",
       "      <td>23.7</td>\n",
       "      <td>23.7</td>\n",
       "    </tr>\n",
       "    <tr>\n",
       "      <th>499</th>\n",
       "      <td>2022-10-30 19:47:38.000000</td>\n",
       "      <td>23.6</td>\n",
       "      <td>23.6</td>\n",
       "    </tr>\n",
       "  </tbody>\n",
       "</table>\n",
       "<p>500 rows × 3 columns</p>\n",
       "</div>"
      ],
      "text/plain": [
       "                     timestamp  temperature  wtemperature\n",
       "0   2022-10-30 18:37:19.000000         24.8          24.8\n",
       "1   2022-10-30 18:37:21.000000         24.8          24.8\n",
       "2   2022-10-30 18:37:35.000000         24.8          24.8\n",
       "3   2022-10-30 18:38:23.000000         24.8          24.8\n",
       "4   2022-10-30 18:38:23.171108         24.8          24.8\n",
       "..                         ...          ...           ...\n",
       "495 2022-10-30 19:46:54.000000         23.7          23.7\n",
       "496 2022-10-30 19:46:54.928897         23.7          23.7\n",
       "497 2022-10-30 19:47:21.000000         23.7          23.7\n",
       "498 2022-10-30 19:47:21.697739         23.7          23.7\n",
       "499 2022-10-30 19:47:38.000000         23.6          23.6\n",
       "\n",
       "[500 rows x 3 columns]"
      ]
     },
     "execution_count": 117,
     "metadata": {},
     "output_type": "execute_result"
    }
   ],
   "source": [
    "df"
   ]
  },
  {
   "cell_type": "code",
   "execution_count": 118,
   "id": "cb1009d6-fa51-4df9-8795-afc51e76b3c2",
   "metadata": {
    "tags": []
   },
   "outputs": [
    {
     "data": {},
     "metadata": {},
     "output_type": "display_data"
    },
    {
     "data": {
      "application/vnd.holoviews_exec.v0+json": "",
      "text/html": [
       "<div id='4888'>\n",
       "  <div class=\"bk-root\" id=\"7b95508e-3f69-4bbf-b29c-fddc50b6031a\" data-root-id=\"4888\"></div>\n",
       "</div>\n",
       "<script type=\"application/javascript\">(function(root) {\n",
       "  function embed_document(root) {\n",
       "    var docs_json = {\"1ea69510-8040-45bb-b0fc-599e5f05c879\":{\"defs\":[{\"extends\":null,\"module\":null,\"name\":\"ReactiveHTML1\",\"overrides\":[],\"properties\":[]},{\"extends\":null,\"module\":null,\"name\":\"FlexBox1\",\"overrides\":[],\"properties\":[{\"default\":\"flex-start\",\"kind\":null,\"name\":\"align_content\"},{\"default\":\"flex-start\",\"kind\":null,\"name\":\"align_items\"},{\"default\":\"row\",\"kind\":null,\"name\":\"flex_direction\"},{\"default\":\"wrap\",\"kind\":null,\"name\":\"flex_wrap\"},{\"default\":\"flex-start\",\"kind\":null,\"name\":\"justify_content\"}]},{\"extends\":null,\"module\":null,\"name\":\"GridStack1\",\"overrides\":[],\"properties\":[{\"default\":\"warn\",\"kind\":null,\"name\":\"mode\"},{\"default\":null,\"kind\":null,\"name\":\"ncols\"},{\"default\":null,\"kind\":null,\"name\":\"nrows\"},{\"default\":true,\"kind\":null,\"name\":\"allow_resize\"},{\"default\":true,\"kind\":null,\"name\":\"allow_drag\"},{\"default\":[],\"kind\":null,\"name\":\"state\"}]},{\"extends\":null,\"module\":null,\"name\":\"click1\",\"overrides\":[],\"properties\":[{\"default\":\"\",\"kind\":null,\"name\":\"terminal_output\"},{\"default\":\"\",\"kind\":null,\"name\":\"debug_name\"},{\"default\":0,\"kind\":null,\"name\":\"clears\"}]},{\"extends\":null,\"module\":null,\"name\":\"NotificationAreaBase1\",\"overrides\":[],\"properties\":[{\"default\":\"bottom-right\",\"kind\":null,\"name\":\"position\"},{\"default\":0,\"kind\":null,\"name\":\"_clear\"}]},{\"extends\":null,\"module\":null,\"name\":\"NotificationArea1\",\"overrides\":[],\"properties\":[{\"default\":[],\"kind\":null,\"name\":\"notifications\"},{\"default\":\"bottom-right\",\"kind\":null,\"name\":\"position\"},{\"default\":0,\"kind\":null,\"name\":\"_clear\"},{\"default\":[{\"background\":\"#ffc107\",\"icon\":{\"className\":\"fas fa-exclamation-triangle\",\"color\":\"white\",\"tagName\":\"i\"},\"type\":\"warning\"},{\"background\":\"#007bff\",\"icon\":{\"className\":\"fas fa-info-circle\",\"color\":\"white\",\"tagName\":\"i\"},\"type\":\"info\"}],\"kind\":null,\"name\":\"types\"}]},{\"extends\":null,\"module\":null,\"name\":\"Notification\",\"overrides\":[],\"properties\":[{\"default\":null,\"kind\":null,\"name\":\"background\"},{\"default\":3000,\"kind\":null,\"name\":\"duration\"},{\"default\":null,\"kind\":null,\"name\":\"icon\"},{\"default\":\"\",\"kind\":null,\"name\":\"message\"},{\"default\":null,\"kind\":null,\"name\":\"notification_type\"},{\"default\":false,\"kind\":null,\"name\":\"_destroyed\"}]},{\"extends\":null,\"module\":null,\"name\":\"TemplateActions1\",\"overrides\":[],\"properties\":[{\"default\":0,\"kind\":null,\"name\":\"open_modal\"},{\"default\":0,\"kind\":null,\"name\":\"close_modal\"}]},{\"extends\":null,\"module\":null,\"name\":\"MaterialTemplateActions1\",\"overrides\":[],\"properties\":[{\"default\":0,\"kind\":null,\"name\":\"open_modal\"},{\"default\":0,\"kind\":null,\"name\":\"close_modal\"}]}],\"roots\":{\"references\":[{\"attributes\":{\"end\":1667836685000.0,\"margin\":[5,10,5,10],\"start\":1667088000000.0,\"title\":\"Slider\",\"value\":[1667088000000.0,1667836685168.7231]},\"id\":\"4888\",\"type\":\"DateRangeSlider\"},{\"attributes\":{\"client_comm_id\":\"896ccd10a4ce4c118b58e4b62d6b201c\",\"comm_id\":\"e6c4c13cb8e8472fb447690f7b57cded\",\"plot_id\":\"4888\"},\"id\":\"4889\",\"type\":\"panel.models.comm_manager.CommManager\"}],\"root_ids\":[\"4888\",\"4889\"]},\"title\":\"Bokeh Application\",\"version\":\"2.4.3\"}};\n",
       "    var render_items = [{\"docid\":\"1ea69510-8040-45bb-b0fc-599e5f05c879\",\"root_ids\":[\"4888\"],\"roots\":{\"4888\":\"7b95508e-3f69-4bbf-b29c-fddc50b6031a\"}}];\n",
       "    root.Bokeh.embed.embed_items_notebook(docs_json, render_items);\n",
       "    for (const render_item of render_items) {\n",
       "      for (const root_id of render_item.root_ids) {\n",
       "\tconst id_el = document.getElementById(root_id)\n",
       "\tif (id_el.children.length && (id_el.children[0].className === 'bk-root')) {\n",
       "\t  const root_el = id_el.children[0]\n",
       "\t  root_el.id = root_el.id + '-rendered'\n",
       "\t}\n",
       "      }\n",
       "    }\n",
       "  }\n",
       "  if (root.Bokeh !== undefined && root.Bokeh.Panel !== undefined && ( root['Tabulator'] !== undefined) && ( root['Tabulator'] !== undefined) && ( root['Tabulator'] !== undefined) && ( root['Tabulator'] !== undefined)) {\n",
       "    embed_document(root);\n",
       "  } else {\n",
       "    var attempts = 0;\n",
       "    var timer = setInterval(function(root) {\n",
       "      if (root.Bokeh !== undefined && root.Bokeh.Panel !== undefined && (root['Tabulator'] !== undefined) && (root['Tabulator'] !== undefined) && (root['Tabulator'] !== undefined) && (root['Tabulator'] !== undefined)) {\n",
       "        clearInterval(timer);\n",
       "        embed_document(root);\n",
       "      } else if (document.readyState == \"complete\") {\n",
       "        attempts++;\n",
       "        if (attempts > 200) {\n",
       "          clearInterval(timer);\n",
       "          console.log(\"Bokeh: ERROR: Unable to run BokehJS code because BokehJS library is missing\");\n",
       "        }\n",
       "      }\n",
       "    }, 25, root)\n",
       "  }\n",
       "})(window);</script>"
      ],
      "text/plain": [
       "DateRangeSlider(end=datetime.datetime(2022, ..., name='Slider', start=datetime.datetime(2022, ..., value=(datetime.datetime(2022, ..., value_end=datetime.datetime(2022, ..., value_start=datetime.datetime(2022, ...)"
      ]
     },
     "execution_count": 118,
     "metadata": {
      "application/vnd.holoviews_exec.v0+json": {
       "id": "4888"
      }
     },
     "output_type": "execute_result"
    }
   ],
   "source": [
    "idf = df.interactive()\n",
    "\n",
    "slid = pn.widgets.DateRangeSlider(name='Slider', start=dt.datetime(2022, 10, 30), end=dt.datetime.now())\n",
    "slid"
   ]
  },
  {
   "cell_type": "code",
   "execution_count": 125,
   "id": "0b254784-c6cb-4877-8081-3fc8446b154a",
   "metadata": {},
   "outputs": [],
   "source": [
    "yaxis_values = pn.widgets.RadioButtonGroup(\n",
    "    name='Y axis',\n",
    "    options=['temperature', 'humidity'],\n",
    "    button_type='success'\n",
    ")"
   ]
  },
  {
   "cell_type": "code",
   "execution_count": 123,
   "id": "510aa30a-46f8-4c06-9947-b8868ae0f5e3",
   "metadata": {
    "tags": []
   },
   "outputs": [],
   "source": [
    "pipeline = (\n",
    "    idf[\n",
    "        (idf.timestamp <= slid.value[1]) & (idf.timestamp >= slid.value[0])\n",
    "    ]\n",
    ")"
   ]
  },
  {
   "cell_type": "code",
   "execution_count": 124,
   "id": "85ebda35-76a5-486d-be76-9a559db2faa6",
   "metadata": {},
   "outputs": [
    {
     "data": {},
     "metadata": {},
     "output_type": "display_data"
    },
    {
     "data": {},
     "metadata": {},
     "output_type": "display_data"
    },
    {
     "data": {
      "application/vnd.holoviews_exec.v0+json": "",
      "text/html": [
       "<div id='5143'>\n",
       "  <div class=\"bk-root\" id=\"14df1af5-2839-43fb-9dfb-e14d9319ce61\" data-root-id=\"5143\"></div>\n",
       "</div>\n",
       "<script type=\"application/javascript\">(function(root) {\n",
       "  function embed_document(root) {\n",
       "    var docs_json = {\"5bdfdf7d-d16d-4cfe-9a2b-f5243f859632\":{\"defs\":[{\"extends\":null,\"module\":null,\"name\":\"ReactiveHTML1\",\"overrides\":[],\"properties\":[]},{\"extends\":null,\"module\":null,\"name\":\"FlexBox1\",\"overrides\":[],\"properties\":[{\"default\":\"flex-start\",\"kind\":null,\"name\":\"align_content\"},{\"default\":\"flex-start\",\"kind\":null,\"name\":\"align_items\"},{\"default\":\"row\",\"kind\":null,\"name\":\"flex_direction\"},{\"default\":\"wrap\",\"kind\":null,\"name\":\"flex_wrap\"},{\"default\":\"flex-start\",\"kind\":null,\"name\":\"justify_content\"}]},{\"extends\":null,\"module\":null,\"name\":\"GridStack1\",\"overrides\":[],\"properties\":[{\"default\":\"warn\",\"kind\":null,\"name\":\"mode\"},{\"default\":null,\"kind\":null,\"name\":\"ncols\"},{\"default\":null,\"kind\":null,\"name\":\"nrows\"},{\"default\":true,\"kind\":null,\"name\":\"allow_resize\"},{\"default\":true,\"kind\":null,\"name\":\"allow_drag\"},{\"default\":[],\"kind\":null,\"name\":\"state\"}]},{\"extends\":null,\"module\":null,\"name\":\"click1\",\"overrides\":[],\"properties\":[{\"default\":\"\",\"kind\":null,\"name\":\"terminal_output\"},{\"default\":\"\",\"kind\":null,\"name\":\"debug_name\"},{\"default\":0,\"kind\":null,\"name\":\"clears\"}]},{\"extends\":null,\"module\":null,\"name\":\"NotificationAreaBase1\",\"overrides\":[],\"properties\":[{\"default\":\"bottom-right\",\"kind\":null,\"name\":\"position\"},{\"default\":0,\"kind\":null,\"name\":\"_clear\"}]},{\"extends\":null,\"module\":null,\"name\":\"NotificationArea1\",\"overrides\":[],\"properties\":[{\"default\":[],\"kind\":null,\"name\":\"notifications\"},{\"default\":\"bottom-right\",\"kind\":null,\"name\":\"position\"},{\"default\":0,\"kind\":null,\"name\":\"_clear\"},{\"default\":[{\"background\":\"#ffc107\",\"icon\":{\"className\":\"fas fa-exclamation-triangle\",\"color\":\"white\",\"tagName\":\"i\"},\"type\":\"warning\"},{\"background\":\"#007bff\",\"icon\":{\"className\":\"fas fa-info-circle\",\"color\":\"white\",\"tagName\":\"i\"},\"type\":\"info\"}],\"kind\":null,\"name\":\"types\"}]},{\"extends\":null,\"module\":null,\"name\":\"Notification\",\"overrides\":[],\"properties\":[{\"default\":null,\"kind\":null,\"name\":\"background\"},{\"default\":3000,\"kind\":null,\"name\":\"duration\"},{\"default\":null,\"kind\":null,\"name\":\"icon\"},{\"default\":\"\",\"kind\":null,\"name\":\"message\"},{\"default\":null,\"kind\":null,\"name\":\"notification_type\"},{\"default\":false,\"kind\":null,\"name\":\"_destroyed\"}]},{\"extends\":null,\"module\":null,\"name\":\"TemplateActions1\",\"overrides\":[],\"properties\":[{\"default\":0,\"kind\":null,\"name\":\"open_modal\"},{\"default\":0,\"kind\":null,\"name\":\"close_modal\"}]},{\"extends\":null,\"module\":null,\"name\":\"MaterialTemplateActions1\",\"overrides\":[],\"properties\":[{\"default\":0,\"kind\":null,\"name\":\"open_modal\"},{\"default\":0,\"kind\":null,\"name\":\"close_modal\"}]}],\"roots\":{\"references\":[{\"attributes\":{\"days\":[1,4,7,10,13,16,19,22,25,28]},\"id\":\"5211\",\"type\":\"DaysTicker\"},{\"attributes\":{\"months\":[0,2,4,6,8,10]},\"id\":\"5215\",\"type\":\"MonthsTicker\"},{\"attributes\":{\"axis_label\":\"timestamp\",\"coordinates\":null,\"formatter\":{\"id\":\"5192\"},\"group\":null,\"major_label_policy\":{\"id\":\"5193\"},\"ticker\":{\"id\":\"5162\"}},\"id\":\"5161\",\"type\":\"DatetimeAxis\"},{\"attributes\":{\"children\":[{\"id\":\"5145\"},{\"id\":\"5152\"}],\"margin\":[0,0,0,0],\"name\":\"Column06747\"},\"id\":\"5144\",\"type\":\"Column\"},{\"attributes\":{\"axis\":{\"id\":\"5165\"},\"coordinates\":null,\"dimension\":1,\"grid_line_color\":null,\"group\":null,\"ticker\":null},\"id\":\"5168\",\"type\":\"Grid\"},{\"attributes\":{\"client_comm_id\":\"d50a97e767e84f97836a5377a32191b7\",\"comm_id\":\"0396e66e8183415c9127b403f818b241\",\"plot_id\":\"5143\"},\"id\":\"5285\",\"type\":\"panel.models.comm_manager.CommManager\"},{\"attributes\":{\"num_minor_ticks\":5,\"tickers\":[{\"id\":\"5207\"},{\"id\":\"5208\"},{\"id\":\"5209\"},{\"id\":\"5210\"},{\"id\":\"5211\"},{\"id\":\"5212\"},{\"id\":\"5213\"},{\"id\":\"5214\"},{\"id\":\"5215\"},{\"id\":\"5216\"},{\"id\":\"5217\"},{\"id\":\"5218\"}]},\"id\":\"5162\",\"type\":\"DatetimeTicker\"},{\"attributes\":{},\"id\":\"5157\",\"type\":\"LinearScale\"},{\"attributes\":{\"line_color\":\"#30a2da\",\"line_width\":2,\"x\":{\"field\":\"timestamp\"},\"y\":{\"field\":\"wtemperature\"}},\"id\":\"5185\",\"type\":\"Line\"},{\"attributes\":{\"months\":[0,6]},\"id\":\"5217\",\"type\":\"MonthsTicker\"},{\"attributes\":{\"bottom_units\":\"screen\",\"coordinates\":null,\"fill_alpha\":0.5,\"fill_color\":\"lightgrey\",\"group\":null,\"left_units\":\"screen\",\"level\":\"overlay\",\"line_alpha\":1.0,\"line_color\":\"black\",\"line_dash\":[4,4],\"line_width\":2,\"right_units\":\"screen\",\"syncable\":false,\"top_units\":\"screen\"},\"id\":\"5174\",\"type\":\"BoxAnnotation\"},{\"attributes\":{\"axis_label\":\"wtemperature\",\"coordinates\":null,\"formatter\":{\"id\":\"5195\"},\"group\":null,\"major_label_policy\":{\"id\":\"5196\"},\"ticker\":{\"id\":\"5166\"}},\"id\":\"5165\",\"type\":\"LinearAxis\"},{\"attributes\":{},\"id\":\"5166\",\"type\":\"BasicTicker\"},{\"attributes\":{\"mantissas\":[1,2,5],\"max_interval\":500.0,\"num_minor_ticks\":0},\"id\":\"5207\",\"type\":\"AdaptiveTicker\"},{\"attributes\":{\"tools\":[{\"id\":\"5151\"},{\"id\":\"5169\"},{\"id\":\"5170\"},{\"id\":\"5171\"},{\"id\":\"5172\"},{\"id\":\"5173\"}]},\"id\":\"5175\",\"type\":\"Toolbar\"},{\"attributes\":{},\"id\":\"5192\",\"type\":\"DatetimeTickFormatter\"},{\"attributes\":{\"line_alpha\":0.1,\"line_color\":\"#30a2da\",\"line_width\":2,\"x\":{\"field\":\"timestamp\"},\"y\":{\"field\":\"wtemperature\"}},\"id\":\"5186\",\"type\":\"Line\"},{\"attributes\":{\"base\":24,\"mantissas\":[1,2,4,6,8,12],\"max_interval\":43200000.0,\"min_interval\":3600000.0,\"num_minor_ticks\":0},\"id\":\"5209\",\"type\":\"AdaptiveTicker\"},{\"attributes\":{\"children\":[{\"id\":\"5144\"}],\"margin\":[0,0,0,0],\"name\":\"Row06748\"},\"id\":\"5143\",\"type\":\"Row\"},{\"attributes\":{},\"id\":\"5159\",\"type\":\"LinearScale\"},{\"attributes\":{},\"id\":\"5171\",\"type\":\"WheelZoomTool\"},{\"attributes\":{},\"id\":\"5183\",\"type\":\"Selection\"},{\"attributes\":{\"base\":60,\"mantissas\":[1,2,5,10,15,20,30],\"max_interval\":1800000.0,\"min_interval\":1000.0,\"num_minor_ticks\":0},\"id\":\"5208\",\"type\":\"AdaptiveTicker\"},{\"attributes\":{\"months\":[0,1,2,3,4,5,6,7,8,9,10,11]},\"id\":\"5214\",\"type\":\"MonthsTicker\"},{\"attributes\":{\"below\":[{\"id\":\"5161\"}],\"center\":[{\"id\":\"5164\"},{\"id\":\"5168\"}],\"height\":300,\"left\":[{\"id\":\"5165\"}],\"margin\":[5,5,5,5],\"min_border_bottom\":10,\"min_border_left\":10,\"min_border_right\":10,\"min_border_top\":10,\"renderers\":[{\"id\":\"5188\"}],\"sizing_mode\":\"fixed\",\"title\":{\"id\":\"5153\"},\"toolbar\":{\"id\":\"5175\"},\"width\":700,\"x_range\":{\"id\":\"5149\"},\"x_scale\":{\"id\":\"5157\"},\"y_range\":{\"id\":\"5150\"},\"y_scale\":{\"id\":\"5159\"}},\"id\":\"5152\",\"subtype\":\"Figure\",\"type\":\"Plot\"},{\"attributes\":{},\"id\":\"5218\",\"type\":\"YearsTicker\"},{\"attributes\":{\"line_alpha\":0.2,\"line_color\":\"#30a2da\",\"line_width\":2,\"x\":{\"field\":\"timestamp\"},\"y\":{\"field\":\"wtemperature\"}},\"id\":\"5187\",\"type\":\"Line\"},{\"attributes\":{\"children\":[{\"id\":\"5146\"},{\"id\":\"5148\"}],\"margin\":[0,0,0,0],\"name\":\"Row06741\"},\"id\":\"5145\",\"type\":\"Row\"},{\"attributes\":{\"days\":[1,15]},\"id\":\"5213\",\"type\":\"DaysTicker\"},{\"attributes\":{},\"id\":\"5169\",\"type\":\"SaveTool\"},{\"attributes\":{\"coordinates\":null,\"data_source\":{\"id\":\"5182\"},\"glyph\":{\"id\":\"5185\"},\"group\":null,\"hover_glyph\":null,\"muted_glyph\":{\"id\":\"5187\"},\"nonselection_glyph\":{\"id\":\"5186\"},\"selection_glyph\":{\"id\":\"5190\"},\"view\":{\"id\":\"5189\"}},\"id\":\"5188\",\"type\":\"GlyphRenderer\"},{\"attributes\":{\"overlay\":{\"id\":\"5174\"}},\"id\":\"5172\",\"type\":\"BoxZoomTool\"},{\"attributes\":{\"days\":[1,2,3,4,5,6,7,8,9,10,11,12,13,14,15,16,17,18,19,20,21,22,23,24,25,26,27,28,29,30,31]},\"id\":\"5210\",\"type\":\"DaysTicker\"},{\"attributes\":{\"margin\":[5,5,5,5],\"name\":\"HSpacer06740\",\"sizing_mode\":\"stretch_width\"},\"id\":\"5148\",\"type\":\"Spacer\"},{\"attributes\":{\"source\":{\"id\":\"5182\"}},\"id\":\"5189\",\"type\":\"CDSView\"},{\"attributes\":{\"callback\":null,\"formatters\":{\"@{timestamp}\":\"datetime\"},\"renderers\":[{\"id\":\"5188\"}],\"tags\":[\"hv_created\"],\"tooltips\":[[\"timestamp\",\"@{timestamp}{%F %T}\"],[\"wtemperature\",\"@{wtemperature}\"]]},\"id\":\"5151\",\"type\":\"HoverTool\"},{\"attributes\":{\"line_color\":\"#30a2da\",\"line_width\":2,\"x\":{\"field\":\"timestamp\"},\"y\":{\"field\":\"wtemperature\"}},\"id\":\"5190\",\"type\":\"Line\"},{\"attributes\":{\"end\":1667159258000.0,\"reset_end\":1667159258000.0,\"reset_start\":1667155039000.0,\"start\":1667155039000.0,\"tags\":[[[\"timestamp\",\"timestamp\",null]]]},\"id\":\"5149\",\"type\":\"Range1d\"},{\"attributes\":{},\"id\":\"5173\",\"type\":\"ResetTool\"},{\"attributes\":{},\"id\":\"5170\",\"type\":\"PanTool\"},{\"attributes\":{},\"id\":\"5193\",\"type\":\"AllLabels\"},{\"attributes\":{},\"id\":\"5204\",\"type\":\"UnionRenderers\"},{\"attributes\":{\"days\":[1,8,15,22]},\"id\":\"5212\",\"type\":\"DaysTicker\"},{\"attributes\":{\"active\":0,\"button_type\":\"success\",\"labels\":[\"wtemperature\",\"humidity\"],\"margin\":[5,10,5,10]},\"id\":\"5147\",\"type\":\"RadioButtonGroup\"},{\"attributes\":{\"data\":{\"timestamp\":{\"__ndarray__\":\"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\",\"dtype\":\"float64\",\"order\":\"little\",\"shape\":[500]},\"wtemperature\":{\"__ndarray__\":\"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\",\"dtype\":\"float64\",\"order\":\"little\",\"shape\":[500]}},\"selected\":{\"id\":\"5183\"},\"selection_policy\":{\"id\":\"5204\"}},\"id\":\"5182\",\"type\":\"ColumnDataSource\"},{\"attributes\":{\"children\":[{\"id\":\"5147\"}],\"margin\":[0,0,0,0],\"name\":\"Column06736\"},\"id\":\"5146\",\"type\":\"Column\"},{\"attributes\":{\"axis\":{\"id\":\"5161\"},\"coordinates\":null,\"grid_line_color\":null,\"group\":null,\"ticker\":null},\"id\":\"5164\",\"type\":\"Grid\"},{\"attributes\":{\"coordinates\":null,\"group\":null,\"text\":\"titolo\",\"text_color\":\"black\",\"text_font_size\":\"12pt\"},\"id\":\"5153\",\"type\":\"Title\"},{\"attributes\":{},\"id\":\"5195\",\"type\":\"BasicTickFormatter\"},{\"attributes\":{},\"id\":\"5196\",\"type\":\"AllLabels\"},{\"attributes\":{\"months\":[0,4,8]},\"id\":\"5216\",\"type\":\"MonthsTicker\"},{\"attributes\":{\"end\":24.92,\"reset_end\":24.92,\"reset_start\":23.48,\"start\":23.48,\"tags\":[[[\"wtemperature\",\"wtemperature\",null]]]},\"id\":\"5150\",\"type\":\"Range1d\"}],\"root_ids\":[\"5143\",\"5285\"]},\"title\":\"Bokeh Application\",\"version\":\"2.4.3\"}};\n",
       "    var render_items = [{\"docid\":\"5bdfdf7d-d16d-4cfe-9a2b-f5243f859632\",\"root_ids\":[\"5143\"],\"roots\":{\"5143\":\"14df1af5-2839-43fb-9dfb-e14d9319ce61\"}}];\n",
       "    root.Bokeh.embed.embed_items_notebook(docs_json, render_items);\n",
       "    for (const render_item of render_items) {\n",
       "      for (const root_id of render_item.root_ids) {\n",
       "\tconst id_el = document.getElementById(root_id)\n",
       "\tif (id_el.children.length && (id_el.children[0].className === 'bk-root')) {\n",
       "\t  const root_el = id_el.children[0]\n",
       "\t  root_el.id = root_el.id + '-rendered'\n",
       "\t}\n",
       "      }\n",
       "    }\n",
       "  }\n",
       "  if (root.Bokeh !== undefined && root.Bokeh.Panel !== undefined && ( root['Tabulator'] !== undefined) && ( root['Tabulator'] !== undefined) && ( root['Tabulator'] !== undefined) && ( root['Tabulator'] !== undefined)) {\n",
       "    embed_document(root);\n",
       "  } else {\n",
       "    var attempts = 0;\n",
       "    var timer = setInterval(function(root) {\n",
       "      if (root.Bokeh !== undefined && root.Bokeh.Panel !== undefined && (root['Tabulator'] !== undefined) && (root['Tabulator'] !== undefined) && (root['Tabulator'] !== undefined) && (root['Tabulator'] !== undefined)) {\n",
       "        clearInterval(timer);\n",
       "        embed_document(root);\n",
       "      } else if (document.readyState == \"complete\") {\n",
       "        attempts++;\n",
       "        if (attempts > 200) {\n",
       "          clearInterval(timer);\n",
       "          console.log(\"Bokeh: ERROR: Unable to run BokehJS code because BokehJS library is missing\");\n",
       "        }\n",
       "      }\n",
       "    }, 25, root)\n",
       "  }\n",
       "})(window);</script>"
      ],
      "text/plain": [
       "<hvplot.interactive.Interactive at 0x7f74792940>"
      ]
     },
     "execution_count": 124,
     "metadata": {
      "application/vnd.holoviews_exec.v0+json": {
       "id": "5143"
      }
     },
     "output_type": "execute_result"
    }
   ],
   "source": [
    "plot = pipeline.hvplot(x='timestamp', y=yaxis_values, line_width=2, title='titolo')\n",
    "plot"
   ]
  },
  {
   "cell_type": "code",
   "execution_count": 64,
   "id": "0ee8b71a-6bf4-40c6-9ce4-5acc1288a473",
   "metadata": {},
   "outputs": [],
   "source": [
    "#Layout using Template\n",
    "template = pn.template.FastListTemplate(\n",
    "    title='World CO2 emission dashboard',\n",
    "    main=[yaxis_values, plot, slid],\n",
    "    accent_base_color=\"#88d8b0\",\n",
    "    header_background=\"#88d8b0\",\n",
    ")\n",
    "# template.show()\n",
    "template.servable();"
   ]
  },
  {
   "cell_type": "code",
   "execution_count": null,
   "id": "ad0ba7f9-8837-4232-a03a-3045c9b1690e",
   "metadata": {},
   "outputs": [],
   "source": []
  },
  {
   "cell_type": "code",
   "execution_count": null,
   "id": "88815ac4-25b8-4dc2-8bbe-985072c11471",
   "metadata": {},
   "outputs": [],
   "source": []
  }
 ],
 "metadata": {
  "kernelspec": {
   "display_name": "Python 3 (ipykernel)",
   "language": "python",
   "name": "python3"
  },
  "language_info": {
   "codemirror_mode": {
    "name": "ipython",
    "version": 3
   },
   "file_extension": ".py",
   "mimetype": "text/x-python",
   "name": "python",
   "nbconvert_exporter": "python",
   "pygments_lexer": "ipython3",
   "version": "3.9.2"
  }
 },
 "nbformat": 4,
 "nbformat_minor": 5
}
